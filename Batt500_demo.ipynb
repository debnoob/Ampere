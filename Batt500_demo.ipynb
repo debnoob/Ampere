{
 "cells": [
  {
   "cell_type": "markdown",
   "metadata": {},
   "source": [
    "# Welcome to the Battery.py Demonstration Notebook!\n",
    "\n",
    "This notebook will walk you through using battery.py, and show a few different use cases where the model can be used to fit experimental data.\n",
    "\n",
    "In order to begin, we will need to parametrize the model and select a model. This was done above with the line: \n",
    "\n",
    "```python\n",
    "from battery import SingleParticle```\n",
    "\n",
    "by hitting shift-tab while attempting to parametrize the model, we can view the docstring, which will tell us how to use the models.\n",
    "\n",
    "The model will start with reasonable defaults, but we can choose different defaults if we wish, by initializing a dictionary of all of the \n"
   ]
  },
  {
   "cell_type": "code",
   "execution_count": 3,
   "metadata": {},
   "outputs": [
    {
     "ename": "NameError",
     "evalue": "name 'ampere' is not defined",
     "output_type": "error",
     "traceback": [
      "\u001b[1;31m---------------------------------------------------------------------------\u001b[0m",
      "\u001b[1;31mNameError\u001b[0m                                 Traceback (most recent call last)",
      "\u001b[1;32m<ipython-input-3-7da351425f94>\u001b[0m in \u001b[0;36m<module>\u001b[1;34m()\u001b[0m\n\u001b[1;32m----> 1\u001b[1;33m \u001b[0mdir\u001b[0m\u001b[1;33m(\u001b[0m\u001b[0mampere\u001b[0m\u001b[1;33m)\u001b[0m\u001b[1;33m\u001b[0m\u001b[0m\n\u001b[0m",
      "\u001b[1;31mNameError\u001b[0m: name 'ampere' is not defined"
     ]
    }
   ],
   "source": []
  },
  {
   "cell_type": "code",
   "execution_count": 1,
   "metadata": {},
   "outputs": [],
   "source": [
    "import numpy as np\n",
    "import matplotlib.pyplot as plt\n",
    "%matplotlib inline\n",
    "\n",
    "from ampere import SingleParticleParabolic, SingleParticleFDSEI, SingleParticleFD"
   ]
  },
  {
   "cell_type": "code",
   "execution_count": 2,
   "metadata": {},
   "outputs": [
    {
     "name": "stdout",
     "output_type": "stream",
     "text": [
      "[array([[   0.        ,    4.00801603,    8.01603206, ..., 1991.98396794,\n",
      "        1995.99198397, 2000.        ],\n",
      "       [   4.07652933,    4.06998514,    4.06497591, ...,    2.5       ,\n",
      "           2.5       ,    2.5       ],\n",
      "       [  -2.        ,   -2.        ,   -2.        , ...,    0.        ,\n",
      "           0.        ,    0.        ]]), array([ 1.78916230e+03,  4.88655828e+04,  4.88664967e+04,  4.88692386e+04,\n",
      "        4.88738084e+04,  4.88802061e+04,  4.88884317e+04,  4.88984852e+04,\n",
      "        4.89103667e+04,  4.89240760e+04,  4.89396133e+04,  4.89569785e+04,\n",
      "        4.89761716e+04,  4.89971926e+04,  4.90200415e+04,  4.90447184e+04,\n",
      "        4.90712231e+04,  4.90995558e+04,  4.91297164e+04,  4.91617049e+04,\n",
      "        4.91955213e+04,  4.92311656e+04,  4.92686378e+04,  4.93079380e+04,\n",
      "        4.93490661e+04,  4.93920220e+04,  4.94368059e+04,  4.94834178e+04,\n",
      "        4.95318575e+04,  4.95821251e+04,  4.96342207e+04,  4.96881441e+04,\n",
      "        4.97438955e+04,  1.25853080e+03,  1.25751461e+03,  1.25446601e+03,\n",
      "        1.24938503e+03,  1.24227165e+03,  1.23312588e+03,  1.22194772e+03,\n",
      "        1.20873716e+03,  1.19349421e+03,  1.17621886e+03,  1.15691112e+03,\n",
      "        1.13557099e+03,  1.11219846e+03,  1.08679354e+03,  1.05935623e+03,\n",
      "        1.02988652e+03,  9.98384418e+02,  9.64849923e+02,  9.29283034e+02,\n",
      "        8.91683752e+02,  8.52052077e+02,  8.10388007e+02,  7.66691544e+02,\n",
      "        7.20962688e+02,  6.73201437e+02,  6.23407793e+02,  5.71581756e+02,\n",
      "        5.17723325e+02,  4.61832500e+02,  4.03909282e+02,  3.43953670e+02,\n",
      "        2.81965664e+02,  3.70876798e+00,  1.20876798e+00,  2.50000000e+00,\n",
      "       -6.00000000e+01])]\n"
     ]
    },
    {
     "data": {
      "text/plain": [
       "[<matplotlib.lines.Line2D at 0x1d8d9e81d30>]"
      ]
     },
     "execution_count": 2,
     "metadata": {},
     "output_type": "execute_result"
    },
    {
     "data": {
      "image/png": "[encoded data removed]",
      "text/plain": [
       "<Figure size 432x288 with 1 Axes>"
      ]
     },
     "metadata": {},
     "output_type": "display_data"
    }
   ],
   "source": [
    "spm1 = SingleParticleFD()\n",
    "d1 = spm1.discharge(current=2.0, trim=True)\n",
    "plt.plot(d1[0], d1[1])"
   ]
  },
  {
   "cell_type": "code",
   "execution_count": 3,
   "metadata": {},
   "outputs": [
    {
     "name": "stdout",
     "output_type": "stream",
     "text": [
      "[4.07652933 4.06998514 4.06497591 4.06112471 4.05805465 4.05538882\n",
      " 4.05282153 4.05032365 4.04793156 4.0456482  4.04344435 4.04129427\n",
      " 4.03919023 4.03712865 4.035104   4.03310894 4.03113742 4.02918838\n",
      " 4.02726184 4.02535678 4.0234712  4.02160323 4.01975156 4.01791499\n",
      " 4.01609255 4.01428354 4.01248726 4.01070322 4.00893091 4.00716952\n",
      " 4.00541796 4.00367555 4.00194305 4.00022146 3.99851079 3.99681024\n",
      " 3.99511887 3.99343533 3.99175843 3.99009023 3.98843551 3.98679639\n",
      " 3.98516641 3.9835376  3.98190508 3.98026637 3.97862343 3.97699142\n",
      " 3.97538685 3.97380763 3.97223724 3.97066297 3.96908462 3.96750439\n",
      " 3.96592598 3.96435423 3.96279319 3.96124458 3.9597094  3.95818424\n",
      " 3.9566624  3.9551386  3.95361167 3.95208154 3.9505531  3.94903478\n",
      " 3.94753156 3.94603877 3.94455043 3.94306502 3.94158416 3.94010901\n",
      " 3.93863934 3.93717471 3.93571503 3.93426047 3.93281109 3.93136676\n",
      " 3.92992735 3.92849311 3.92706453 3.92564141 3.92422177 3.92280356\n",
      " 3.92138716 3.91997451 3.91856692 3.91716411 3.91576558 3.91437123\n",
      " 3.91298118 3.91159554 3.91021428 3.90883738 3.90746481 3.90609657\n",
      " 3.90473266 3.90337317 3.90201815 3.90066725 3.89931984 3.89797563\n",
      " 3.89663509 3.89529876 3.89396674 3.89263887 3.89131506 3.88999533\n",
      " 3.88867973 3.88736825 3.8860609  3.88475766 3.88345852 3.88216347\n",
      " 3.88087255 3.87958583 3.87830308 3.87702339 3.87574593 3.87447099\n",
      " 3.87319953 3.8719321  3.87066855 3.86940864 3.86815234 3.86689971\n",
      " 3.86565079 3.86440558 3.86316406 3.86192622 3.86069206 3.8594616\n",
      " 3.85823483 3.85701175 3.85579236 3.85457665 3.85336464 3.85215631\n",
      " 3.85095168 3.84975073 3.84855348 3.84735991 3.84617003 3.84498385\n",
      " 3.84380135 3.84262254 3.84144741 3.84027599 3.83910829 3.83794426\n",
      " 3.83678378 3.83562664 3.83447245 3.8333209  3.83217226 3.83102706\n",
      " 3.82988561 3.8287478  3.82761349 3.82648268 3.8253554  3.82423167\n",
      " 3.82311149 3.82199485 3.82088175 3.81977218 3.81866616 3.81756368\n",
      " 3.81646474 3.81536933 3.81427747 3.81318914 3.81210436 3.81102314\n",
      " 3.80994544 3.80887123 3.80780053 3.80673351 3.80567029 3.80461038\n",
      " 3.80355311 3.80249829 3.8014464  3.8003979  3.79935286 3.79831122\n",
      " 3.79727293 3.79623802 3.7952065  3.79417837 3.79315363 3.79213227\n",
      " 3.7911143  3.79009971 3.7890885  3.78808069 3.78707625 3.7860752\n",
      " 3.78507754 3.78408326 3.78309238 3.78210489 3.78112075 3.78013996\n",
      " 3.7791626  3.77818879 3.7772184  3.77625098 3.77528607 3.77432325\n",
      " 3.77336216 3.77240292 3.77144629 3.77049292 3.76954282 3.76859576\n",
      " 3.76765167 3.76671058 3.76577255 3.76483757 3.76390564 3.76297673\n",
      " 3.76205087 3.76112804 3.76020825 3.75929151 3.75837781 3.75746712\n",
      " 3.75655946 3.75565486 3.7547534  3.75385499 3.75295937 3.75206644\n",
      " 3.751177   3.75029199 3.74941012 3.74852769 3.74764199 3.74675516\n",
      " 3.74587057 3.74498954 3.74411127 3.74323503 3.74236086 3.74148899\n",
      " 3.74061954 3.73975242 3.7388876  3.73802507 3.73716485 3.73630695\n",
      " 3.73545137 3.7345981  3.73374714 3.73289846 3.7320521  3.73120811\n",
      " 3.73036651 3.7295271  3.72868968 3.72785459 3.72702269 3.7261941\n",
      " 3.72536619 3.72453574 3.72370107 3.72286187 3.72201842 3.72117269\n",
      " 3.72032703 3.71948224 3.7186378  3.71779321 3.71694833 3.71610315\n",
      " 3.71525807 3.71441388 3.71357112 3.71272934 3.71188792 3.7110466\n",
      " 3.71020544 3.70936442 3.7085231  3.70768107 3.70683916 3.70599925\n",
      " 3.70516137 3.70431958 3.70346719 3.70260495 3.70173963 3.70087626\n",
      " 3.70001396 3.69915086 3.69828736 3.69742567 3.69656604 3.69570257\n",
      " 3.6948286  3.69394312 3.6930494  3.6921506  3.69124917 3.69034736\n",
      " 3.68944667 3.68854806 3.68764946 3.68674039 3.68580985 3.68486096\n",
      " 3.6839071  3.68295794 3.68201224 3.68106647 3.6801116  3.67913469\n",
      " 3.6781306  3.67711525 3.6761065  3.67510172 3.67408411 3.67304378\n",
      " 3.67198958 3.67093237 3.66987071 3.66879482 3.66769941 3.66659084\n",
      " 3.66547642 3.66435253 3.66320842 3.66203959 3.66085716 3.65967313\n",
      " 3.65848218 3.65726794 3.65602206 3.65475576 3.65348155 3.6521943\n",
      " 3.65087793 3.64952469 3.64814669 3.64675744 3.64535515 3.64392881\n",
      " 3.64247135 3.64098496 3.63947285 3.637936   3.6363741  3.63478594\n",
      " 3.63316844 3.63151852 3.62983547 3.62811998 3.62637206 3.62459035\n",
      " 3.62277332 3.62091963 3.61902807 3.61709735 3.61512605 3.61311277\n",
      " 3.61105654 3.6089566  3.60681193 3.60462094 3.60238194 3.6000929\n",
      " 3.59775162 3.59535635 3.59290617 3.59040025 3.58783749 3.58521661\n",
      " 3.5825358  3.57979219 3.57698294 3.57410657 3.57116225 3.56814911\n",
      " 3.56506619 3.5619122  3.55868354 3.55537542 3.5519839  3.5485065\n",
      " 3.54494097 3.54128584 3.53753993 3.53370162 3.52976844 3.52573772\n",
      " 3.52160622 3.51737037 3.51302716 3.50857443 3.50401029 3.49933401\n",
      " 3.4945453  3.48963991 3.48460688 3.47943576 3.47412397 3.46867234\n",
      " 3.46308015 3.45734408 3.4514604  3.44542416 3.43922986 3.43287104\n",
      " 3.42633973 3.41962827 3.4127319  3.40564716 3.39837403 3.39091781\n",
      " 3.38327913 3.37542521 3.36731038 3.358916   3.35026406 3.34137166\n",
      " 3.3322039  3.32270593 3.31283735 3.30257897 3.29190457 3.28073453\n",
      " 3.26896854 3.25648394 3.2431262  3.2287289  3.21306956 3.19589536\n",
      " 3.17651285 3.15361718 3.12594355 3.0927166  3.05318305 3.00010015\n",
      " 2.917455   2.7886131  2.59693994 2.5       ]\n"
     ]
    }
   ],
   "source": [
    "print(d1[1])"
   ]
  },
  {
   "cell_type": "markdown",
   "metadata": {},
   "source": [
    "### This notebook explores the Single Particle Model (SPM)\n",
    "\n",
    "The SPM examines various physical phenomena, including:\n",
    "* Solid phase diffusion in the spherical particles, as given by Fick's law:\n",
    "\n",
    "$\\frac{\\partial c_{s}}{\\partial t} = \\frac{D_s}{r^2}\\frac{\\partial}{\\partial r}(r^2 \\frac{\\partial c}{\\partial r})$\n",
    "\n",
    "\n",
    "* Reaction kinetics, as described by Butler-Volmer:\n",
    "\n",
    "$x_{surf} = \\frac{c_{surf}}{c_max} $\n",
    "\n",
    "$j = kc_{s,max}c^{0.5}_{e}(1-x_{surf})^{0.5}x_{surf}^{0.5}[exp(\\frac{0.5 F}{RT}\\eta)-exp(-\\frac{0.5 F}{RT}\\eta)]$\n",
    "\n",
    "* Solid-phase potential, as dictated by the surface concentration at the particles\n",
    "\n",
    "$\\eta = \\phi(x_{surf})-U$\n",
    "\n",
    "* The available parameters are as follows:\n",
    "\n",
    "| name   | description                                 | default value | Units   |\n",
    "|--------|---------------------------------------------|---------------|---------|\n",
    "| Dn     | Li+ Diffusivity in negative particle        | 3.9e-14       | m^2/s  |\n",
    "| Dp     | Li+ Diffusivity in positive particle        | 1e-14         | m^2/s  |\n",
    "| Rn     | Negative particle radius                    | 2e-6          | m       |\n",
    "| Rp     | Positive particle radius                    | 2e-6          | m       |\n",
    "| T      | Ambient Temperature                         | 303.15        | K       |\n",
    "| an     | Surface area per unit volume of negative electrode          | 723600        |   m^2/m^3      |\n",
    "| ap     | Surface area per unit volume of positive electrode          | 885000        |    m^2/m^3     |\n",
    "| ce     | Starting electrolyte Li+ concentration      | 1000          | mol/m^3 |\n",
    "| csnmax | Maximum Li+ concentration of negative solid | 30555         | mol/m^3 |\n",
    "| cspmax | Maximum Li+ concentration of positive solid | 51555         | mol/m^3 |\n",
    "| kn     | Negative electrode reaction rate            | 5.0307e-9     | m^4/mol s        |\n",
    "| kp     | Positive electrode reaction rate            | 2.334e-9      |   m^4/mol s      |\n",
    "| ln     | Negative electrode thickness                | 88e-6         | m       |\n",
    "| lp     | Positive electrode thickness                | 80e-6         | m       |\n"
   ]
  },
  {
   "cell_type": "code",
   "execution_count": 3,
   "metadata": {},
   "outputs": [
    {
     "name": "stdout",
     "output_type": "stream",
     "text": [
      "{'Dp': 1e-14, 'Dn': 3.9e-14, 'cspmax': 51555, 'csnmax': 30555, 'lp': 8e-05, 'ln': 8.8e-05, 'Rp': 2e-06, 'Rn': 2e-06, 'T': 303.15, 'ce': 1000, 'ap': 885000, 'an': 723600, 'kp': 2.334e-09, 'kn': 5.0307e-09, 'N1': 30, 'N2': 30}\n",
      "[array([[ 0.00000000e+00,  1.60320641e+01,  3.20641283e+01, ...,\n",
      "         7.96793587e+03,  7.98396794e+03,  8.00000000e+03],\n",
      "       [ 4.16180578e+00,  4.15707382e+00,  4.15399006e+00, ...,\n",
      "         2.50000000e+00,  2.50000000e+00,  2.50000000e+00],\n",
      "       [-5.00000000e-01, -5.00000000e-01, -5.00000000e-01, ...,\n",
      "         0.00000000e+00,  0.00000000e+00,  0.00000000e+00]]), array([[ 0.00000000e+00,  2.58173700e+04,  2.58173700e+04, ...,\n",
      "         7.01152370e-02,  4.16180578e+00, -1.50000000e+01],\n",
      "       [ 1.00000000e+01,  2.58175613e+04,  2.58175657e+04, ...,\n",
      "         7.04008666e-02,  4.15847971e+00, -1.50000000e+01],\n",
      "       [ 2.00000000e+01,  2.58204295e+04,  2.58204650e+04, ...,\n",
      "         7.06228745e-02,  4.15626659e+00, -1.50000000e+01],\n",
      "       ...,\n",
      "       [ 7.25000000e+03,  4.95691241e+04,  4.95693525e+04, ...,\n",
      "         9.71199551e-01,  2.76442444e+00, -1.50000000e+01],\n",
      "       [ 7.26000000e+03,  4.96020608e+04,  4.96022893e+04, ...,\n",
      "         1.14957452e+00,  2.58301039e+00, -1.50000000e+01],\n",
      "       [ 7.26352683e+03,  4.96136770e+04,  4.96139055e+04, ...,\n",
      "         1.23148861e+00,  2.50000000e+00, -1.50000000e+01]])]\n"
     ]
    }
   ],
   "source": [
    "labels = ['Dn','Dp','Rn','Rp','T','an','ap','ce','csnmax','cspmax','kn','kp','ln','lp']\n",
    "values = [3.9e-14, 1e-14, 2e-6, 2e-6, 303.15, 723600, 885000, 1000, 30555, 51555, 5.0307e-9, 2.334e-9, 88e-6, 80e-6]\n",
    "p1 = dict(zip(labels, values))\n",
    "\n",
    "spm1 = SingleParticleFD(initial_parameters=p1)\n",
    "print(spm1.initial_parameters)\n",
    "a = spm1.discharge(internal=True)\n",
    "print(a)"
   ]
  },
  {
   "cell_type": "code",
   "execution_count": 4,
   "metadata": {},
   "outputs": [
    {
     "name": "stderr",
     "output_type": "stream",
     "text": [
      "C:\\Users\\Neal\\Anaconda3\\envs\\keras\\lib\\site-packages\\matplotlib\\cbook\\deprecation.py:107: MatplotlibDeprecationWarning: Adding an axes using the same arguments as a previous axes currently reuses the earlier instance.  In a future version, a new instance will always be created and returned.  Meanwhile, this warning can be suppressed, and the future behavior ensured, by passing a unique label to each axes instance.\n",
      "  warnings.warn(message, mplDeprecation, stacklevel=1)\n"
     ]
    },
    {
     "name": "stdout",
     "output_type": "stream",
     "text": [
      "hi\n"
     ]
    },
    {
     "data": {
      "image/png": "[encoded data removed]",
      "text/plain": [
       "<Figure size 2160x1080 with 2 Axes>"
      ]
     },
     "metadata": {},
     "output_type": "display_data"
    }
   ],
   "source": [
    "# print(a[0])\n",
    "outs = []\n",
    "# inputs = [1e-15, 5e-15, 1e-14, 5e-14, 1e-13]\n",
    "inputs = [15, 30, 60, 120, 240]\n",
    "count=1\n",
    "plt.figure(figsize=(30,15))\n",
    "\n",
    "for i in inputs:\n",
    "    spm1 = SingleParticleFD(initial_parameters={'Dp':5e-15, 'N1':i})\n",
    "    a = spm1.discharge(current=10.0, internal=True)\n",
    "    plt.subplot(131)\n",
    "    plt.plot(np.linspace(0,1,i+2), a[1][-10:,1:i+3].T)\n",
    "    count*=2\n",
    "    plt.subplot(132)\n",
    "    plt.plot(a[0][0], a[0][1])\n",
    "#     plt.subplot(133)\n",
    "#     plt.plot(np.linspace(0,1,30), a[1][-10:,i+3:i+33].T)\n",
    "\n",
    "#     out.append(a[1][:10,1:i+1].T)\n",
    "\n",
    "# plt.plot(a[1][:10,1:71].T)\n",
    "print(\"hi\")\n",
    "# print(a[1].shape)\n",
    "# plt.plot(a[0][0], a[0][1])\n",
    "# print(a[0][0])\n",
    "# print(a[0][1])\n",
    "spm1 = SingleParticleFD(initial_parameters={'Dp':5e-15, 'N1':15, 'N2':15})"
   ]
  },
  {
   "cell_type": "code",
   "execution_count": 4,
   "metadata": {},
   "outputs": [
    {
     "name": "stdout",
     "output_type": "stream",
     "text": [
      "8.91 ms ± 823 µs per loop (mean ± std. dev. of 7 runs, 100 loops each)\n"
     ]
    }
   ],
   "source": [
    "%%timeit\n",
    "a = spm1.discharge(current=10)"
   ]
  },
  {
   "cell_type": "code",
   "execution_count": null,
   "metadata": {},
   "outputs": [],
   "source": []
  },
  {
   "cell_type": "markdown",
   "metadata": {},
   "source": [
    "### Traditional fitting approach:\n",
    "* acquire experimental data\n",
    "* select model\n",
    "* solve model \n",
    "* select optimizer\n",
    "* interface model and optimizer\n",
    "* repeatedly call until the fits look about right\n",
    "* put into plotting software\n",
    "* optional analysis: confidence intervals, fitting only select parameters"
   ]
  },
  {
   "cell_type": "code",
   "execution_count": 7,
   "metadata": {},
   "outputs": [
    {
     "name": "stdout",
     "output_type": "stream",
     "text": [
      "[[   4.00801603    8.01603206   12.0240481  ... 1755.51102204\n",
      "  1759.51903808 1763.52705411]\n",
      " [   4.01912571    4.01557574    4.01219095 ...    3.15329481\n",
      "     3.03835277    2.8008042 ]\n",
      " [  -2.           -2.           -2.         ...   -2.\n",
      "    -2.           -2.        ]]\n"
     ]
    }
   ],
   "source": [
    "from ampere import PseudoTwoDimFD\n",
    "\n",
    "p2d1 = PseudoTwoDimFD()\n",
    "data2 = p2d1.discharge(current=2.0, trim=True)\n",
    "print(data2)"
   ]
  },
  {
   "cell_type": "code",
   "execution_count": 5,
   "metadata": {},
   "outputs": [
    {
     "name": "stdout",
     "output_type": "stream",
     "text": [
      "[2.51417671e+04 2.51417671e+04 2.51417669e+04 2.51417667e+04\n",
      " 2.51417663e+04 2.51417659e+04 2.51417653e+04 2.51417646e+04\n",
      " 2.51417639e+04 2.51417630e+04 2.51417621e+04 2.51417610e+04\n",
      " 2.51417598e+04 2.51417586e+04 2.51417573e+04 2.51417559e+04\n",
      " 2.51417543e+04 2.51417528e+04 2.51417511e+04 2.51417493e+04\n",
      " 2.51417475e+04 2.51417456e+04 2.51417436e+04 2.51417416e+04\n",
      " 2.51417395e+04 2.51417373e+04 2.51417350e+04 2.51417328e+04\n",
      " 2.51417304e+04 2.51417280e+04 2.51417256e+04 2.51417231e+04\n",
      " 2.73920736e+04 2.73920736e+04 2.73920738e+04 2.73920741e+04\n",
      " 2.73920745e+04 2.73920750e+04 2.73920756e+04 2.73920764e+04\n",
      " 2.73920772e+04 2.73920782e+04 2.73920792e+04 2.73920804e+04\n",
      " 2.73920817e+04 2.73920831e+04 2.73920846e+04 2.73920861e+04\n",
      " 2.73920878e+04 2.73920896e+04 2.73920914e+04 2.73920934e+04\n",
      " 2.73920954e+04 2.73920976e+04 2.73920998e+04 2.73921020e+04\n",
      " 2.73921044e+04 2.73921068e+04 2.73921093e+04 2.73921118e+04\n",
      " 2.73921144e+04 2.73921171e+04 2.73921198e+04 2.73921226e+04\n",
      " 4.26700383e+00 6.70038253e-02 2.65295114e-03 7.34704886e-03\n",
      " 1.63371829e-10 3.08271314e+01 3.08183959e+01 8.73553931e-03\n",
      " 4.20000000e+00 1.00000000e-02]\n"
     ]
    },
    {
     "ename": "KeyboardInterrupt",
     "evalue": "",
     "output_type": "error",
     "traceback": [
      "\u001b[1;31m---------------------------------------------------------------------------\u001b[0m",
      "\u001b[1;31mKeyboardInterrupt\u001b[0m                         Traceback (most recent call last)",
      "\u001b[1;32m<ipython-input-5-de46bd3fc989>\u001b[0m in \u001b[0;36m<module>\u001b[1;34m()\u001b[0m\n\u001b[0;32m      6\u001b[0m \u001b[1;31m# cycle_0 = spm1.cycle()\u001b[0m\u001b[1;33m\u001b[0m\u001b[1;33m\u001b[0m\u001b[0m\n\u001b[0;32m      7\u001b[0m \u001b[1;32mfor\u001b[0m \u001b[0mi\u001b[0m \u001b[1;32min\u001b[0m \u001b[0mrange\u001b[0m\u001b[1;33m(\u001b[0m\u001b[1;36m1000\u001b[0m\u001b[1;33m)\u001b[0m\u001b[1;33m:\u001b[0m\u001b[1;33m\u001b[0m\u001b[0m\n\u001b[1;32m----> 8\u001b[1;33m     \u001b[0mspm1\u001b[0m\u001b[1;33m.\u001b[0m\u001b[0mdischarge\u001b[0m\u001b[1;33m(\u001b[0m\u001b[0mcurrent\u001b[0m\u001b[1;33m=\u001b[0m\u001b[1;36m5.0\u001b[0m\u001b[1;33m,\u001b[0m \u001b[0mfrom_current_state\u001b[0m\u001b[1;33m=\u001b[0m\u001b[1;32mTrue\u001b[0m\u001b[1;33m)\u001b[0m\u001b[1;33m\u001b[0m\u001b[0m\n\u001b[0m\u001b[0;32m      9\u001b[0m     \u001b[0mspm1\u001b[0m\u001b[1;33m.\u001b[0m\u001b[0mcharge\u001b[0m\u001b[1;33m(\u001b[0m\u001b[0mcurrent\u001b[0m\u001b[1;33m=\u001b[0m\u001b[1;36m5.0\u001b[0m\u001b[1;33m,\u001b[0m \u001b[0mfrom_current_state\u001b[0m\u001b[1;33m=\u001b[0m\u001b[1;32mTrue\u001b[0m\u001b[1;33m)\u001b[0m\u001b[1;33m\u001b[0m\u001b[0m\n\u001b[0;32m     10\u001b[0m \u001b[0mprint\u001b[0m\u001b[1;33m(\u001b[0m\u001b[0mspm1\u001b[0m\u001b[1;33m.\u001b[0m\u001b[0mcurrent_state\u001b[0m\u001b[1;33m)\u001b[0m\u001b[1;33m\u001b[0m\u001b[0m\n",
      "\u001b[1;32m~\\Documents\\GitHub\\Research\\Ampere\\ampere\\ampere.py\u001b[0m in \u001b[0;36mdischarge\u001b[1;34m(self, t, current, from_current_state, p, trim, internal)\u001b[0m\n\u001b[0;32m    120\u001b[0m                 \u001b[0mp\u001b[0m\u001b[1;33m[\u001b[0m\u001b[0mself\u001b[0m\u001b[1;33m.\u001b[0m\u001b[0mestimate_inds\u001b[0m\u001b[1;33m]\u001b[0m \u001b[1;33m=\u001b[0m \u001b[0mself\u001b[0m\u001b[1;33m.\u001b[0m\u001b[0mfitted_parameters\u001b[0m\u001b[1;33m\u001b[0m\u001b[0m\n\u001b[0;32m    121\u001b[0m         \u001b[1;32mif\u001b[0m \u001b[0mfrom_current_state\u001b[0m\u001b[1;33m:\u001b[0m\u001b[1;33m\u001b[0m\u001b[0m\n\u001b[1;32m--> 122\u001b[1;33m             \u001b[0msolve\u001b[0m \u001b[1;33m=\u001b[0m \u001b[0mself\u001b[0m\u001b[1;33m.\u001b[0m\u001b[0mmodel\u001b[0m\u001b[1;33m(\u001b[0m\u001b[1;33m[\u001b[0m\u001b[1;33m*\u001b[0m\u001b[0mp\u001b[0m\u001b[1;33m,\u001b[0m \u001b[0mcurrent\u001b[0m\u001b[1;33m*\u001b[0m\u001b[1;33m-\u001b[0m\u001b[1;36m1\u001b[0m\u001b[1;33m,\u001b[0m \u001b[1;36m1\u001b[0m\u001b[1;33m]\u001b[0m\u001b[1;33m,\u001b[0m \u001b[0mt\u001b[0m\u001b[1;33m,\u001b[0m \u001b[0minitial\u001b[0m\u001b[1;33m=\u001b[0m\u001b[1;33m[\u001b[0m\u001b[1;33m*\u001b[0m\u001b[0mself\u001b[0m\u001b[1;33m.\u001b[0m\u001b[0mcurrent_state\u001b[0m\u001b[1;33m[\u001b[0m\u001b[1;33m:\u001b[0m\u001b[1;33m-\u001b[0m\u001b[1;36m1\u001b[0m\u001b[1;33m]\u001b[0m\u001b[1;33m,\u001b[0m \u001b[0mcurrent\u001b[0m\u001b[1;33m*\u001b[0m\u001b[1;33m-\u001b[0m\u001b[1;36m1\u001b[0m\u001b[1;33m]\u001b[0m\u001b[1;33m,\u001b[0m \u001b[0minternal\u001b[0m\u001b[1;33m=\u001b[0m\u001b[0minternal\u001b[0m\u001b[1;33m)\u001b[0m\u001b[1;33m\u001b[0m\u001b[0m\n\u001b[0m\u001b[0;32m    123\u001b[0m             \u001b[0mself\u001b[0m\u001b[1;33m.\u001b[0m\u001b[0mcurrent_state\u001b[0m \u001b[1;33m=\u001b[0m \u001b[0msolve\u001b[0m\u001b[1;33m[\u001b[0m\u001b[1;36m1\u001b[0m\u001b[1;33m]\u001b[0m\u001b[1;33m[\u001b[0m\u001b[1;36m1\u001b[0m\u001b[1;33m:\u001b[0m\u001b[1;33m]\u001b[0m\u001b[1;33m\u001b[0m\u001b[0m\n\u001b[0;32m    124\u001b[0m             \u001b[0mself\u001b[0m\u001b[1;33m.\u001b[0m\u001b[0mhist\u001b[0m\u001b[1;33m.\u001b[0m\u001b[0mappend\u001b[0m\u001b[1;33m(\u001b[0m\u001b[0msolve\u001b[0m\u001b[1;33m[\u001b[0m\u001b[1;36m0\u001b[0m\u001b[1;33m]\u001b[0m\u001b[1;33m)\u001b[0m\u001b[1;33m\u001b[0m\u001b[0m\n",
      "\u001b[1;32m~\\Documents\\GitHub\\Research\\Ampere\\ampere\\numerical.py\u001b[0m in \u001b[0;36mSPM_fd_sei\u001b[1;34m(p, t, initial, internal)\u001b[0m\n\u001b[0;32m     91\u001b[0m     \u001b[1;32mfrom\u001b[0m \u001b[1;33m.\u001b[0m\u001b[0mmodels\u001b[0m\u001b[1;33m.\u001b[0m\u001b[0mSPM\u001b[0m\u001b[1;33m.\u001b[0m\u001b[0msolve\u001b[0m \u001b[1;32mimport\u001b[0m \u001b[0mspm_fd_sei\u001b[0m\u001b[1;33m\u001b[0m\u001b[0m\n\u001b[0;32m     92\u001b[0m     \u001b[1;31m# print(p)\u001b[0m\u001b[1;33m\u001b[0m\u001b[1;33m\u001b[0m\u001b[0m\n\u001b[1;32m---> 93\u001b[1;33m     \u001b[0mdata\u001b[0m \u001b[1;33m=\u001b[0m \u001b[0mspm_fd_sei\u001b[0m\u001b[1;33m(\u001b[0m\u001b[0mp\u001b[0m\u001b[1;33m,\u001b[0m \u001b[0minitial\u001b[0m\u001b[1;33m=\u001b[0m\u001b[0minitial\u001b[0m\u001b[1;33m,\u001b[0m \u001b[0mtf\u001b[0m\u001b[1;33m=\u001b[0m\u001b[0mt\u001b[0m\u001b[1;33m[\u001b[0m\u001b[1;33m-\u001b[0m\u001b[1;36m1\u001b[0m\u001b[1;33m]\u001b[0m\u001b[1;33m)\u001b[0m\u001b[1;33m\u001b[0m\u001b[0m\n\u001b[0m\u001b[0;32m     94\u001b[0m \u001b[1;33m\u001b[0m\u001b[0m\n\u001b[0;32m     95\u001b[0m     \u001b[1;32mif\u001b[0m \u001b[0mdata\u001b[0m\u001b[1;33m[\u001b[0m\u001b[1;36m0\u001b[0m\u001b[1;33m]\u001b[0m\u001b[1;33m[\u001b[0m\u001b[1;33m-\u001b[0m\u001b[1;36m1\u001b[0m\u001b[1;33m,\u001b[0m \u001b[1;36m0\u001b[0m\u001b[1;33m]\u001b[0m \u001b[1;33m<\u001b[0m \u001b[0mt\u001b[0m\u001b[1;33m[\u001b[0m\u001b[1;33m-\u001b[0m\u001b[1;36m1\u001b[0m\u001b[1;33m]\u001b[0m \u001b[1;32mand\u001b[0m \u001b[0mnp\u001b[0m\u001b[1;33m.\u001b[0m\u001b[0misclose\u001b[0m\u001b[1;33m(\u001b[0m\u001b[0mdata\u001b[0m\u001b[1;33m[\u001b[0m\u001b[1;36m0\u001b[0m\u001b[1;33m]\u001b[0m\u001b[1;33m[\u001b[0m\u001b[1;33m-\u001b[0m\u001b[1;36m1\u001b[0m\u001b[1;33m,\u001b[0m \u001b[1;36m1\u001b[0m\u001b[1;33m]\u001b[0m\u001b[1;33m,\u001b[0m \u001b[1;36m4.2\u001b[0m\u001b[1;33m,\u001b[0m \u001b[0mrtol\u001b[0m\u001b[1;33m=\u001b[0m\u001b[1;36m1e-2\u001b[0m\u001b[1;33m)\u001b[0m\u001b[1;33m:\u001b[0m\u001b[1;33m\u001b[0m\u001b[0m\n",
      "\u001b[1;32m~\\Documents\\GitHub\\Research\\Ampere\\ampere\\models\\SPM\\solve.py\u001b[0m in \u001b[0;36mspm_fd_sei\u001b[1;34m(p, initial, tf, internal)\u001b[0m\n\u001b[0;32m     26\u001b[0m     \u001b[0mvar\u001b[0m \u001b[1;33m=\u001b[0m \u001b[0mnp\u001b[0m\u001b[1;33m.\u001b[0m\u001b[0mzeros\u001b[0m\u001b[1;33m(\u001b[0m\u001b[1;33m(\u001b[0m\u001b[1;36m10000\u001b[0m\u001b[1;33m,\u001b[0m\u001b[0mint\u001b[0m\u001b[1;33m(\u001b[0m\u001b[0mp\u001b[0m\u001b[1;33m[\u001b[0m\u001b[1;36m18\u001b[0m\u001b[1;33m]\u001b[0m\u001b[1;33m+\u001b[0m\u001b[0mp\u001b[0m\u001b[1;33m[\u001b[0m\u001b[1;36m19\u001b[0m\u001b[1;33m]\u001b[0m\u001b[1;33m+\u001b[0m\u001b[1;36m15\u001b[0m\u001b[1;33m)\u001b[0m\u001b[1;33m)\u001b[0m\u001b[1;33m)\u001b[0m\u001b[1;33m\u001b[0m\u001b[0m\n\u001b[0;32m     27\u001b[0m     \u001b[0mmodel\u001b[0m\u001b[1;33m(\u001b[0m\u001b[0minput1\u001b[0m\u001b[1;33m,\u001b[0m \u001b[0mvar\u001b[0m\u001b[1;33m)\u001b[0m\u001b[1;33m\u001b[0m\u001b[0m\n\u001b[1;32m---> 28\u001b[1;33m     \u001b[0mcount\u001b[0m \u001b[1;33m=\u001b[0m \u001b[0mnp\u001b[0m\u001b[1;33m.\u001b[0m\u001b[0mnonzero\u001b[0m\u001b[1;33m(\u001b[0m\u001b[0mvar\u001b[0m\u001b[1;33m[\u001b[0m\u001b[1;33m:\u001b[0m\u001b[1;33m,\u001b[0m\u001b[1;33m-\u001b[0m\u001b[1;36m2\u001b[0m\u001b[1;33m]\u001b[0m\u001b[1;33m)\u001b[0m\u001b[1;33m[\u001b[0m\u001b[1;36m0\u001b[0m\u001b[1;33m]\u001b[0m\u001b[1;33m[\u001b[0m\u001b[1;33m-\u001b[0m\u001b[1;36m1\u001b[0m\u001b[1;33m]\u001b[0m\u001b[1;33m+\u001b[0m\u001b[1;36m1\u001b[0m\u001b[1;33m\u001b[0m\u001b[0m\n\u001b[0m\u001b[0;32m     29\u001b[0m     \u001b[0mvar\u001b[0m \u001b[1;33m=\u001b[0m \u001b[0mvar\u001b[0m\u001b[1;33m[\u001b[0m\u001b[1;33m:\u001b[0m\u001b[0mcount\u001b[0m\u001b[1;33m]\u001b[0m\u001b[1;33m\u001b[0m\u001b[0m\n\u001b[0;32m     30\u001b[0m     \u001b[0mfinal\u001b[0m \u001b[1;33m=\u001b[0m \u001b[0mvar\u001b[0m\u001b[1;33m[\u001b[0m\u001b[1;33m-\u001b[0m\u001b[1;36m1\u001b[0m\u001b[1;33m]\u001b[0m\u001b[1;33m\u001b[0m\u001b[0m\n",
      "\u001b[1;31mKeyboardInterrupt\u001b[0m: "
     ]
    }
   ],
   "source": [
    "# look at SEI SPM model\n",
    "spm1 = SingleParticleFDSEI()\n",
    "cycle_0 = spm1.discharge(current=5.0)\n",
    "spm1.charge(current=1.0)\n",
    "print(spm1.current_state)\n",
    "# cycle_0 = spm1.cycle()\n",
    "for i in range(1000):\n",
    "    spm1.discharge(current=5.0, from_current_state=True)\n",
    "    spm1.charge(current=5.0, from_current_state=True)\n",
    "print(spm1.current_state)\n",
    "\n",
    "cycle_101 = spm1.discharge(current=5.0, from_current_state=True)\n",
    "plt.plot(cycle_0[0], cycle_0[1])\n",
    "plt.plot(cycle_101[0], cycle_101[1])"
   ]
  },
  {
   "cell_type": "code",
   "execution_count": 8,
   "metadata": {},
   "outputs": [
    {
     "name": "stdout",
     "output_type": "stream",
     "text": [
      "[   0.            4.00801603    8.01603206   12.0240481    16.03206413\n",
      "   20.04008016   24.04809619   28.05611222   32.06412826   36.07214429\n",
      "   40.08016032   44.08817635   48.09619238   52.10420842   56.11222445\n",
      "   60.12024048   64.12825651   68.13627255   72.14428858   76.15230461\n",
      "   80.16032064   84.16833667   88.17635271   92.18436874   96.19238477\n",
      "  100.2004008   104.20841683  108.21643287  112.2244489   116.23246493\n",
      "  120.24048096  124.24849699  128.25651303  132.26452906  136.27254509\n",
      "  140.28056112  144.28857715  148.29659319  152.30460922  156.31262525\n",
      "  160.32064128  164.32865731  168.33667335  172.34468938  176.35270541\n",
      "  180.36072144  184.36873747  188.37675351  192.38476954  196.39278557\n",
      "  200.4008016   204.40881764  208.41683367  212.4248497   216.43286573\n",
      "  220.44088176  224.4488978   228.45691383  232.46492986  236.47294589\n",
      "  240.48096192  244.48897796  248.49699399  252.50501002  256.51302605\n",
      "  260.52104208  264.52905812  268.53707415  272.54509018  276.55310621\n",
      "  280.56112224  284.56913828  288.57715431  292.58517034  296.59318637\n",
      "  300.6012024   304.60921844  308.61723447  312.6252505   316.63326653\n",
      "  320.64128257  324.6492986   328.65731463  332.66533066  336.67334669\n",
      "  340.68136273  344.68937876  348.69739479  352.70541082  356.71342685\n",
      "  360.72144289  364.72945892  368.73747495  372.74549098  376.75350701\n",
      "  380.76152305  384.76953908  388.77755511  392.78557114  396.79358717\n",
      "  400.80160321  404.80961924  408.81763527  412.8256513   416.83366733\n",
      "  420.84168337  424.8496994   428.85771543  432.86573146  436.87374749\n",
      "  440.88176353  444.88977956  448.89779559  452.90581162  456.91382766\n",
      "  460.92184369  464.92985972  468.93787575  472.94589178  476.95390782\n",
      "  480.96192385  484.96993988  488.97795591  492.98597194  496.99398798\n",
      "  501.00200401  505.01002004  509.01803607  513.0260521   517.03406814\n",
      "  521.04208417  525.0501002   529.05811623  533.06613226  537.0741483\n",
      "  541.08216433  545.09018036  549.09819639  553.10621242  557.11422846\n",
      "  561.12224449  565.13026052  569.13827655  573.14629259  577.15430862\n",
      "  581.16232465  585.17034068  589.17835671  593.18637275  597.19438878\n",
      "  601.20240481  605.21042084  609.21843687  613.22645291  617.23446894\n",
      "  621.24248497  625.250501    629.25851703  633.26653307  637.2745491\n",
      "  641.28256513  645.29058116  649.29859719  653.30661323  657.31462926\n",
      "  661.32264529  665.33066132  669.33867735  673.34669339  677.35470942\n",
      "  681.36272545  685.37074148  689.37875752  693.38677355  697.39478958\n",
      "  701.40280561  705.41082164  709.41883768  713.42685371  717.43486974\n",
      "  721.44288577  725.4509018   729.45891784  733.46693387  737.4749499\n",
      "  741.48296593  745.49098196  749.498998    753.50701403  757.51503006\n",
      "  761.52304609  765.53106212  769.53907816  773.54709419  777.55511022\n",
      "  781.56312625  785.57114228  789.57915832  793.58717435  797.59519038\n",
      "  801.60320641  805.61122244  809.61923848  813.62725451  817.63527054\n",
      "  821.64328657  825.65130261  829.65931864  833.66733467  837.6753507\n",
      "  841.68336673  845.69138277  849.6993988   853.70741483  857.71543086\n",
      "  861.72344689  865.73146293  869.73947896  873.74749499  877.75551102\n",
      "  881.76352705  885.77154309  889.77955912  893.78757515  897.79559118\n",
      "  901.80360721  905.81162325  909.81963928  913.82765531  917.83567134\n",
      "  921.84368737  925.85170341  929.85971944  933.86773547  937.8757515\n",
      "  941.88376754  945.89178357  949.8997996   953.90781563  957.91583166\n",
      "  961.9238477   965.93186373  969.93987976  973.94789579  977.95591182\n",
      "  981.96392786  985.97194389  989.97995992  993.98797595  997.99599198\n",
      " 1002.00400802 1006.01202405 1010.02004008 1014.02805611 1018.03607214\n",
      " 1022.04408818 1026.05210421 1030.06012024 1034.06813627 1038.0761523\n",
      " 1042.08416834 1046.09218437 1050.1002004  1054.10821643 1058.11623246\n",
      " 1062.1242485  1066.13226453 1070.14028056 1074.14829659 1078.15631263\n",
      " 1082.16432866 1086.17234469 1090.18036072 1094.18837675 1098.19639279\n",
      " 1102.20440882 1106.21242485 1110.22044088 1114.22845691 1118.23647295\n",
      " 1122.24448898 1126.25250501 1130.26052104 1134.26853707 1138.27655311\n",
      " 1142.28456914 1146.29258517 1150.3006012  1154.30861723 1158.31663327\n",
      " 1162.3246493  1166.33266533 1170.34068136 1174.34869739 1178.35671343\n",
      " 1182.36472946 1186.37274549 1190.38076152 1194.38877756 1198.39679359\n",
      " 1202.40480962 1206.41282565 1210.42084168 1214.42885772 1218.43687375\n",
      " 1222.44488978 1226.45290581 1230.46092184 1234.46893788 1238.47695391\n",
      " 1242.48496994 1246.49298597 1250.501002   1254.50901804 1258.51703407\n",
      " 1262.5250501  1266.53306613 1270.54108216 1274.5490982  1278.55711423\n",
      " 1282.56513026 1286.57314629 1290.58116232 1294.58917836 1298.59719439\n",
      " 1302.60521042 1306.61322645 1310.62124248 1314.62925852 1318.63727455\n",
      " 1322.64529058 1326.65330661 1330.66132265 1334.66933868 1338.67735471\n",
      " 1342.68537074 1346.69338677 1350.70140281 1354.70941884 1358.71743487\n",
      " 1362.7254509  1366.73346693 1370.74148297 1374.749499   1378.75751503\n",
      " 1382.76553106 1386.77354709 1390.78156313 1394.78957916 1398.79759519\n",
      " 1402.80561122 1406.81362725 1410.82164329 1414.82965932 1418.83767535\n",
      " 1422.84569138 1426.85370741 1430.86172345 1434.86973948 1438.87775551\n",
      " 1442.88577154 1446.89378758 1450.90180361 1454.90981964 1458.91783567\n",
      " 1462.9258517  1466.93386774 1470.94188377 1474.9498998  1478.95791583\n",
      " 1482.96593186 1486.9739479  1490.98196393 1494.98997996 1498.99799599\n",
      " 1503.00601202 1507.01402806 1511.02204409 1515.03006012 1519.03807615\n",
      " 1523.04609218 1527.05410822 1531.06212425 1535.07014028 1539.07815631\n",
      " 1543.08617234 1547.09418838 1551.10220441 1555.11022044 1559.11823647\n",
      " 1563.12625251 1567.13426854 1571.14228457 1575.1503006  1579.15831663\n",
      " 1583.16633267 1587.1743487  1591.18236473 1595.19038076 1599.19839679\n",
      " 1603.20641283 1607.21442886 1611.22244489 1615.23046092 1619.23847695\n",
      " 1623.24649299 1627.25450902 1631.26252505 1635.27054108 1639.27855711\n",
      " 1643.28657315 1647.29458918 1651.30260521 1655.31062124 1659.31863727\n",
      " 1663.32665331 1667.33466934 1671.34268537 1675.3507014  1679.35871743\n",
      " 1683.36673347 1687.3747495  1691.38276553 1695.39078156 1699.3987976\n",
      " 1703.40681363 1707.41482966 1711.42284569 1715.43086172 1719.43887776\n",
      " 1723.44689379 1727.45490982 1731.46292585 1735.47094188 1739.47895792\n",
      " 1743.48697395 1747.49498998 1751.50300601 1755.51102204 1759.51903808\n",
      " 1763.52705411 1767.53507014 1771.54308617 1775.5511022  1779.55911824\n",
      " 1783.56713427 1787.5751503  1791.58316633 1795.59118236 1799.5991984\n",
      " 1803.60721443 1807.61523046 1811.62324649 1815.63126253 1819.63927856\n",
      " 1823.64729459 1827.65531062 1831.66332665 1835.67134269 1839.67935872\n",
      " 1843.68737475 1847.69539078 1851.70340681 1855.71142285 1859.71943888\n",
      " 1863.72745491 1867.73547094 1871.74348697 1875.75150301 1879.75951904\n",
      " 1883.76753507 1887.7755511  1891.78356713 1895.79158317 1899.7995992\n",
      " 1903.80761523 1907.81563126 1911.82364729 1915.83166333 1919.83967936\n",
      " 1923.84769539 1927.85571142 1931.86372745 1935.87174349 1939.87975952\n",
      " 1943.88777555 1947.89579158 1951.90380762 1955.91182365 1959.91983968\n",
      " 1963.92785571 1967.93587174 1971.94388778 1975.95190381 1979.95991984\n",
      " 1983.96793587 1987.9759519  1991.98396794 1995.99198397 2000.        ]\n"
     ]
    }
   ],
   "source": [
    "# plt.plot(data3[1])\n",
    "a = data\n",
    "print(a[2])"
   ]
  },
  {
   "cell_type": "code",
   "execution_count": 7,
   "metadata": {},
   "outputs": [
    {
     "ename": "NameError",
     "evalue": "name 'data2' is not defined",
     "output_type": "error",
     "traceback": [
      "\u001b[1;31m---------------------------------------------------------------------------\u001b[0m",
      "\u001b[1;31mNameError\u001b[0m                                 Traceback (most recent call last)",
      "\u001b[1;32m<ipython-input-7-51371abcb0aa>\u001b[0m in \u001b[0;36m<module>\u001b[1;34m()\u001b[0m\n\u001b[0;32m     11\u001b[0m \u001b[1;31m# plt.plot(data2[0], data2[2], label = 'Current 2')\u001b[0m\u001b[1;33m\u001b[0m\u001b[1;33m\u001b[0m\u001b[0m\n\u001b[0;32m     12\u001b[0m \u001b[1;33m\u001b[0m\u001b[0m\n\u001b[1;32m---> 13\u001b[1;33m \u001b[0mplt\u001b[0m\u001b[1;33m.\u001b[0m\u001b[0mplot\u001b[0m\u001b[1;33m(\u001b[0m\u001b[0mdata2\u001b[0m\u001b[1;33m[\u001b[0m\u001b[1;36m0\u001b[0m\u001b[1;33m]\u001b[0m\u001b[1;33m,\u001b[0m \u001b[0mdata2\u001b[0m\u001b[1;33m[\u001b[0m\u001b[1;36m1\u001b[0m\u001b[1;33m]\u001b[0m\u001b[1;33m,\u001b[0m \u001b[0mlabel\u001b[0m \u001b[1;33m=\u001b[0m \u001b[1;34m'Voltage 2'\u001b[0m\u001b[1;33m)\u001b[0m\u001b[1;33m\u001b[0m\u001b[0m\n\u001b[0m\u001b[0;32m     14\u001b[0m \u001b[0mplt\u001b[0m\u001b[1;33m.\u001b[0m\u001b[0mplot\u001b[0m\u001b[1;33m(\u001b[0m\u001b[0mdata2\u001b[0m\u001b[1;33m[\u001b[0m\u001b[1;36m0\u001b[0m\u001b[1;33m]\u001b[0m\u001b[1;33m,\u001b[0m \u001b[0mdata2\u001b[0m\u001b[1;33m[\u001b[0m\u001b[1;36m2\u001b[0m\u001b[1;33m]\u001b[0m\u001b[1;33m,\u001b[0m \u001b[0mlabel\u001b[0m \u001b[1;33m=\u001b[0m \u001b[1;34m'Current 2'\u001b[0m\u001b[1;33m)\u001b[0m\u001b[1;33m\u001b[0m\u001b[0m\n\u001b[0;32m     15\u001b[0m \u001b[1;33m\u001b[0m\u001b[0m\n",
      "\u001b[1;31mNameError\u001b[0m: name 'data2' is not defined"
     ]
    },
    {
     "data": {
      "image/png": "[encoded data removed]",
      "text/plain": [
       "<Figure size 432x288 with 1 Axes>"
      ]
     },
     "metadata": {},
     "output_type": "display_data"
    }
   ],
   "source": [
    "import time\n",
    "st = time.time()\n",
    "# for i in range(500):\n",
    "data = spm1.discharge(current=2.0)\n",
    "# rim=True, from_current_state=True)\n",
    "# print((time.time()-st)/500)\n",
    "plt.plot(data[0], data[1], label = 'Voltage')\n",
    "plt.plot(data[0], data[2], label = 'Current')\n",
    "\n",
    "# plt.plot(data2[0], data2[1], label = 'Voltage 2')\n",
    "# plt.plot(data2[0], data2[2], label = 'Current 2')\n",
    "\n",
    "plt.plot(data2[0], data2[1], label = 'Voltage 2')\n",
    "plt.plot(data2[0], data2[2], label = 'Current 2')\n",
    "\n",
    "\n",
    "plt.legend()"
   ]
  },
  {
   "cell_type": "code",
   "execution_count": 18,
   "metadata": {},
   "outputs": [
    {
     "name": "stdout",
     "output_type": "stream",
     "text": [
      "[[0.00000000e+00 2.00400802e+01 4.00801603e+01 ... 9.95991984e+03\n",
      "  9.97995992e+03 1.00000000e+04]\n",
      " [2.90078076e+00 3.19612263e+00 3.27336149e+00 ... 4.20000000e+00\n",
      "  4.20000000e+00 4.20000000e+00]\n",
      " [5.00000000e-01 5.00000000e-01 5.00000000e-01 ... 0.00000000e+00\n",
      "  0.00000000e+00 0.00000000e+00]]\n",
      "[5.00000000e-01 5.00000000e-01 5.00000000e-01 5.00000000e-01\n",
      " 5.00000000e-01 5.00000000e-01 5.00000000e-01 5.00000000e-01\n",
      " 5.00000000e-01 5.00000000e-01 5.00000000e-01 5.00000000e-01\n",
      " 5.00000000e-01 5.00000000e-01 5.00000000e-01 5.00000000e-01\n",
      " 5.00000000e-01 5.00000000e-01 5.00000000e-01 5.00000000e-01\n",
      " 5.00000000e-01 5.00000000e-01 5.00000000e-01 5.00000000e-01\n",
      " 5.00000000e-01 5.00000000e-01 5.00000000e-01 5.00000000e-01\n",
      " 5.00000000e-01 5.00000000e-01 5.00000000e-01 5.00000000e-01\n",
      " 5.00000000e-01 5.00000000e-01 5.00000000e-01 5.00000000e-01\n",
      " 5.00000000e-01 5.00000000e-01 5.00000000e-01 5.00000000e-01\n",
      " 5.00000000e-01 5.00000000e-01 5.00000000e-01 5.00000000e-01\n",
      " 5.00000000e-01 5.00000000e-01 5.00000000e-01 5.00000000e-01\n",
      " 5.00000000e-01 5.00000000e-01 5.00000000e-01 5.00000000e-01\n",
      " 5.00000000e-01 5.00000000e-01 5.00000000e-01 5.00000000e-01\n",
      " 5.00000000e-01 5.00000000e-01 5.00000000e-01 5.00000000e-01\n",
      " 5.00000000e-01 5.00000000e-01 5.00000000e-01 5.00000000e-01\n",
      " 5.00000000e-01 5.00000000e-01 5.00000000e-01 5.00000000e-01\n",
      " 5.00000000e-01 5.00000000e-01 5.00000000e-01 5.00000000e-01\n",
      " 5.00000000e-01 5.00000000e-01 5.00000000e-01 5.00000000e-01\n",
      " 5.00000000e-01 5.00000000e-01 5.00000000e-01 5.00000000e-01\n",
      " 5.00000000e-01 5.00000000e-01 5.00000000e-01 5.00000000e-01\n",
      " 5.00000000e-01 5.00000000e-01 5.00000000e-01 5.00000000e-01\n",
      " 5.00000000e-01 5.00000000e-01 5.00000000e-01 5.00000000e-01\n",
      " 5.00000000e-01 5.00000000e-01 5.00000000e-01 5.00000000e-01\n",
      " 5.00000000e-01 5.00000000e-01 5.00000000e-01 5.00000000e-01\n",
      " 5.00000000e-01 5.00000000e-01 5.00000000e-01 5.00000000e-01\n",
      " 5.00000000e-01 5.00000000e-01 5.00000000e-01 5.00000000e-01\n",
      " 5.00000000e-01 5.00000000e-01 5.00000000e-01 5.00000000e-01\n",
      " 5.00000000e-01 5.00000000e-01 5.00000000e-01 5.00000000e-01\n",
      " 5.00000000e-01 5.00000000e-01 5.00000000e-01 5.00000000e-01\n",
      " 5.00000000e-01 5.00000000e-01 5.00000000e-01 5.00000000e-01\n",
      " 5.00000000e-01 5.00000000e-01 5.00000000e-01 5.00000000e-01\n",
      " 5.00000000e-01 5.00000000e-01 5.00000000e-01 5.00000000e-01\n",
      " 5.00000000e-01 5.00000000e-01 5.00000000e-01 5.00000000e-01\n",
      " 5.00000000e-01 5.00000000e-01 5.00000000e-01 5.00000000e-01\n",
      " 5.00000000e-01 5.00000000e-01 5.00000000e-01 5.00000000e-01\n",
      " 5.00000000e-01 5.00000000e-01 5.00000000e-01 5.00000000e-01\n",
      " 5.00000000e-01 5.00000000e-01 5.00000000e-01 5.00000000e-01\n",
      " 5.00000000e-01 5.00000000e-01 5.00000000e-01 5.00000000e-01\n",
      " 5.00000000e-01 5.00000000e-01 5.00000000e-01 5.00000000e-01\n",
      " 5.00000000e-01 5.00000000e-01 5.00000000e-01 5.00000000e-01\n",
      " 5.00000000e-01 5.00000000e-01 5.00000000e-01 5.00000000e-01\n",
      " 5.00000000e-01 5.00000000e-01 5.00000000e-01 5.00000000e-01\n",
      " 5.00000000e-01 5.00000000e-01 5.00000000e-01 5.00000000e-01\n",
      " 5.00000000e-01 5.00000000e-01 5.00000000e-01 5.00000000e-01\n",
      " 5.00000000e-01 5.00000000e-01 5.00000000e-01 5.00000000e-01\n",
      " 5.00000000e-01 5.00000000e-01 5.00000000e-01 5.00000000e-01\n",
      " 5.00000000e-01 5.00000000e-01 5.00000000e-01 5.00000000e-01\n",
      " 5.00000000e-01 5.00000000e-01 5.00000000e-01 5.00000000e-01\n",
      " 5.00000000e-01 5.00000000e-01 5.00000000e-01 5.00000000e-01\n",
      " 5.00000000e-01 5.00000000e-01 5.00000000e-01 5.00000000e-01\n",
      " 5.00000000e-01 5.00000000e-01 5.00000000e-01 5.00000000e-01\n",
      " 5.00000000e-01 5.00000000e-01 5.00000000e-01 5.00000000e-01\n",
      " 5.00000000e-01 5.00000000e-01 5.00000000e-01 5.00000000e-01\n",
      " 5.00000000e-01 5.00000000e-01 5.00000000e-01 5.00000000e-01\n",
      " 5.00000000e-01 5.00000000e-01 5.00000000e-01 5.00000000e-01\n",
      " 5.00000000e-01 5.00000000e-01 5.00000000e-01 5.00000000e-01\n",
      " 5.00000000e-01 5.00000000e-01 5.00000000e-01 5.00000000e-01\n",
      " 5.00000000e-01 5.00000000e-01 5.00000000e-01 5.00000000e-01\n",
      " 5.00000000e-01 5.00000000e-01 5.00000000e-01 5.00000000e-01\n",
      " 5.00000000e-01 5.00000000e-01 5.00000000e-01 5.00000000e-01\n",
      " 5.00000000e-01 5.00000000e-01 5.00000000e-01 5.00000000e-01\n",
      " 5.00000000e-01 5.00000000e-01 5.00000000e-01 5.00000000e-01\n",
      " 5.00000000e-01 5.00000000e-01 5.00000000e-01 5.00000000e-01\n",
      " 5.00000000e-01 5.00000000e-01 5.00000000e-01 5.00000000e-01\n",
      " 5.00000000e-01 5.00000000e-01 5.00000000e-01 5.00000000e-01\n",
      " 5.00000000e-01 5.00000000e-01 5.00000000e-01 5.00000000e-01\n",
      " 5.00000000e-01 5.00000000e-01 5.00000000e-01 5.00000000e-01\n",
      " 5.00000000e-01 5.00000000e-01 5.00000000e-01 5.00000000e-01\n",
      " 5.00000000e-01 5.00000000e-01 5.00000000e-01 5.00000000e-01\n",
      " 5.00000000e-01 5.00000000e-01 5.00000000e-01 5.00000000e-01\n",
      " 5.00000000e-01 5.00000000e-01 5.00000000e-01 5.00000000e-01\n",
      " 5.00000000e-01 5.00000000e-01 5.00000000e-01 5.00000000e-01\n",
      " 5.00000000e-01 5.00000000e-01 5.00000000e-01 5.00000000e-01\n",
      " 5.00000000e-01 5.00000000e-01 5.00000000e-01 5.00000000e-01\n",
      " 5.00000000e-01 5.00000000e-01 5.00000000e-01 5.00000000e-01\n",
      " 5.00000000e-01 5.00000000e-01 5.00000000e-01 5.00000000e-01\n",
      " 5.00000000e-01 5.00000000e-01 5.00000000e-01 5.00000000e-01\n",
      " 5.00000000e-01 5.00000000e-01 5.00000000e-01 5.00000000e-01\n",
      " 5.00000000e-01 5.00000000e-01 5.00000000e-01 5.00000000e-01\n",
      " 5.00000000e-01 5.00000000e-01 5.00000000e-01 5.00000000e-01\n",
      " 5.00000000e-01 5.00000000e-01 5.00000000e-01 5.00000000e-01\n",
      " 5.00000000e-01 5.00000000e-01 5.00000000e-01 5.00000000e-01\n",
      " 5.00000000e-01 5.00000000e-01 5.00000000e-01 5.00000000e-01\n",
      " 5.00000000e-01 5.00000000e-01 5.00000000e-01 5.00000000e-01\n",
      " 5.00000000e-01 5.00000000e-01 5.00000000e-01 5.00000000e-01\n",
      " 5.00000000e-01 5.00000000e-01 5.00000000e-01 5.00000000e-01\n",
      " 5.00000000e-01 5.00000000e-01 5.00000000e-01 5.00000000e-01\n",
      " 5.00000000e-01 5.00000000e-01 5.00000000e-01 5.00000000e-01\n",
      " 4.99999996e-01 4.99999948e-01 4.99999268e-01 4.99989730e-01\n",
      " 4.99855971e-01 4.95230726e-01 4.33383482e-01 3.82687652e-01\n",
      " 3.38913425e-01 3.00512886e-01 2.66608119e-01 2.36649592e-01\n",
      " 2.10124276e-01 1.86619631e-01 1.65772108e-01 1.47280272e-01\n",
      " 1.30855464e-01 1.16270155e-01 1.03329847e-01 9.18218907e-02\n",
      " 8.16017463e-02 7.25217745e-02 6.44533011e-02 5.72841885e-02\n",
      " 5.09142247e-02 4.52537605e-02 4.02232083e-02 3.57526787e-02\n",
      " 3.17806184e-02 2.82521372e-02 2.51181405e-02 2.23345963e-02\n",
      " 1.98623271e-02 1.76659941e-02 1.57146517e-02 1.39808714e-02\n",
      " 1.24412338e-02 1.10738547e-02 9.85912472e-03 8.78077493e-03\n",
      " 7.82346609e-03 6.97395268e-03 6.21927434e-03 5.54911949e-03\n",
      " 4.95424723e-03 4.42608550e-03 3.95702416e-03 3.54048609e-03\n",
      " 3.17073461e-03 2.84241536e-03 2.55098371e-03 2.29231507e-03\n",
      " 2.06278519e-03 1.85907408e-03 1.67815746e-03 1.51763654e-03\n",
      " 1.37524015e-03 1.24880577e-03 1.13647089e-03 1.03664467e-03\n",
      " 9.47832503e-04 8.68896327e-04 7.98828741e-04 7.36895071e-04\n",
      " 6.82194968e-04 6.33252846e-04 5.89376463e-04 5.50502629e-04\n",
      " 5.16096685e-04 4.85736189e-04 4.59172045e-04 4.35354003e-04\n",
      " 4.13850779e-04 3.94687771e-04 3.77493265e-04 3.62434321e-04\n",
      " 3.49564654e-04 3.38116373e-04 0.00000000e+00 0.00000000e+00\n",
      " 0.00000000e+00 0.00000000e+00 0.00000000e+00 0.00000000e+00\n",
      " 0.00000000e+00 0.00000000e+00 0.00000000e+00 0.00000000e+00\n",
      " 0.00000000e+00 0.00000000e+00 0.00000000e+00 0.00000000e+00\n",
      " 0.00000000e+00 0.00000000e+00 0.00000000e+00 0.00000000e+00\n",
      " 0.00000000e+00 0.00000000e+00 0.00000000e+00 0.00000000e+00\n",
      " 0.00000000e+00 0.00000000e+00 0.00000000e+00 0.00000000e+00\n",
      " 0.00000000e+00 0.00000000e+00 0.00000000e+00 0.00000000e+00\n",
      " 0.00000000e+00 0.00000000e+00 0.00000000e+00 0.00000000e+00\n",
      " 0.00000000e+00 0.00000000e+00 0.00000000e+00 0.00000000e+00\n",
      " 0.00000000e+00 0.00000000e+00 0.00000000e+00 0.00000000e+00\n",
      " 0.00000000e+00 0.00000000e+00 0.00000000e+00 0.00000000e+00\n",
      " 0.00000000e+00 0.00000000e+00 0.00000000e+00 0.00000000e+00\n",
      " 0.00000000e+00 0.00000000e+00 0.00000000e+00 0.00000000e+00\n",
      " 0.00000000e+00 0.00000000e+00 0.00000000e+00 0.00000000e+00\n",
      " 0.00000000e+00 0.00000000e+00 0.00000000e+00 0.00000000e+00\n",
      " 0.00000000e+00 0.00000000e+00 0.00000000e+00 0.00000000e+00]\n"
     ]
    }
   ],
   "source": [
    "d1 = spm1.charge(current=0.5)\n",
    "# print(d1)\n",
    "# print(d1[2])"
   ]
  },
  {
   "cell_type": "code",
   "execution_count": 15,
   "metadata": {},
   "outputs": [
    {
     "name": "stdout",
     "output_type": "stream",
     "text": [
      "{'Dp': 1e-14, 'Dn': 1e-14, 'cspmax': 51555.0, 'csnmax': 30555.0, 'lp': 8e-05, 'ln': 8.8e-05, 'Rp': 2e-06, 'Rn': 2e-06, 'T': 303.15, 'ce': 1000.0, 'ap': 885000.0, 'an': 723600.0, 'M_sei': 0.026, 'rho_sei': 2100.0, 'Kappa_sei': 1.0, 'kp': 2.334e-11, 'kn': 8.307e-12, 'ksei': 1.5e-06, 'N1': 30, 'N2': 30}\n",
      "{'Dp': 1e-14, 'Dn': 1e-14, 'cspmax': 51555.0, 'csnmax': 30555.0, 'lp': 7.8e-05, 'ln': 8.8e-05, 'Rp': 2e-06, 'Rn': 2e-06, 'T': 303.15, 'ce': 1000.0, 'ap': 885000.0, 'an': 723600.0, 'M_sei': 0.026, 'rho_sei': 2100.0, 'Kappa_sei': 1.0, 'kp': 2.334e-09, 'kn': 8.307e-12, 'ksei': 1.5e-06, 'N1': 30, 'N2': 30}\n"
     ]
    },
    {
     "data": {
      "text/plain": [
       "<matplotlib.legend.Legend at 0x1f37cd6eb38>"
      ]
     },
     "execution_count": 15,
     "metadata": {},
     "output_type": "execute_result"
    },
    {
     "data": {
      "image/png": "[encoded data removed]",
      "text/plain": [
       "<Figure size 432x288 with 1 Axes>"
      ]
     },
     "metadata": {},
     "output_type": "display_data"
    }
   ],
   "source": [
    "# generate experimental data with some set of parameters\n",
    "\n",
    "labels = ['Rp','lp','kp']\n",
    "values = [2.0e-6, 78e-6,2.334e-9]\n",
    "p1 = dict(zip(labels, values))\n",
    "# print(p1)\n",
    "\n",
    "bounds = [[1e-7,1e-5],[1e-7,1e-5],[1e-10,1e-8]]\n",
    "spm2 = SingleParticleFDSEI(initial_parameters=p1, estimate_parameters=['Rp','lp','kp'])\n",
    "print(spm1.initial_parameters)\n",
    "print(spm2.initial_parameters)\n",
    "\n",
    "# create the experimental data\n",
    "data = spm1.charge(current=0.5)\n",
    "data2 = spm2.charge(current=0.5)\n",
    "t_exp = data[0]\n",
    "v_exp = data[1]\n",
    "curr_exp = data[2]\n",
    "\n",
    "plt.plot(t_exp, v_exp, label='Voltage, battery 1')\n",
    "plt.plot(t_exp, curr_exp, label='Current, batter 1')\n",
    "plt.plot(data2[0], data2[1], label='Voltage, battery 2')\n",
    "plt.plot(data2[0], data2[2], label='Current, batter 2')\n",
    "\n",
    "plt.legend()"
   ]
  },
  {
   "cell_type": "code",
   "execution_count": 8,
   "metadata": {},
   "outputs": [
    {
     "name": "stderr",
     "output_type": "stream",
     "text": [
      "C:\\Users\\neal\\Anaconda3\\envs\\keras\\lib\\site-packages\\scipy\\optimize\\_minimize.py:430: RuntimeWarning: Method Nelder-Mead cannot handle constraints nor bounds.\n",
      "  RuntimeWarning)\n"
     ]
    },
    {
     "name": "stdout",
     "output_type": "stream",
     "text": [
      "0\n",
      "1\n",
      "2\n",
      "3\n",
      "4\n",
      "5\n",
      "6\n",
      "7\n",
      "8\n",
      "9\n",
      "10\n",
      "11\n",
      "12\n",
      "13\n",
      "14\n",
      "15\n",
      "16\n",
      "17\n",
      "18\n",
      "19\n",
      "20\n",
      "21\n",
      "22\n",
      "23\n",
      "24\n",
      "25\n",
      "26\n",
      "27\n",
      "28\n",
      "29\n",
      "30\n",
      "31\n",
      "32\n",
      "33\n",
      "34\n",
      "35\n",
      "36\n",
      "37\n",
      "38\n",
      "39\n",
      "40\n",
      "41\n",
      "42\n",
      "43\n",
      "44\n",
      "45\n",
      "46\n",
      "47\n",
      "48\n",
      "49\n",
      "50\n",
      "51\n",
      "52\n",
      "53\n",
      "54\n",
      "55\n",
      "56\n",
      "57\n",
      "58\n",
      "59\n",
      "60\n",
      "61\n",
      "62\n",
      "63\n",
      "64\n",
      "65\n",
      "66\n",
      "67\n",
      "68\n",
      "69\n",
      "70\n",
      "71\n",
      "72\n",
      "73\n",
      "74\n",
      "75\n",
      "76\n",
      "77\n",
      "78\n",
      "79\n",
      "80\n",
      "81\n",
      "82\n",
      "83\n",
      "84\n",
      "85\n",
      "86\n",
      "87\n",
      "88\n",
      "89\n",
      "90\n",
      "91\n",
      "92\n",
      "93\n",
      "94\n",
      "95\n",
      "96\n",
      "97\n",
      "98\n",
      "99\n",
      "100\n",
      "101\n",
      "102\n",
      "103\n",
      "104\n",
      "105\n",
      "106\n",
      "107\n",
      "108\n",
      "109\n",
      "110\n",
      "111\n",
      "112\n",
      "113\n",
      "114\n",
      "115\n",
      "116\n",
      "117\n",
      "118\n",
      "119\n",
      "120\n",
      "121\n",
      "122\n",
      "123\n",
      "124\n",
      "125\n",
      "126\n",
      "127\n",
      "128\n",
      "129\n",
      "130\n",
      "131\n",
      "132\n",
      "133\n",
      "134\n",
      "135\n",
      "136\n",
      "137\n",
      "138\n",
      "139\n",
      "140\n",
      "141\n",
      "142\n",
      "143\n",
      "144\n",
      "145\n",
      "146\n",
      "147\n",
      "148\n",
      "149\n",
      "150\n",
      "151\n",
      "152\n",
      "153\n",
      "154\n",
      "155\n",
      "156\n",
      "157\n",
      "158\n",
      "159\n",
      "160\n",
      "161\n",
      "162\n",
      "163\n",
      "164\n",
      "165\n",
      "166\n",
      "167\n",
      "168\n",
      "169\n",
      "170\n",
      "171\n",
      "172\n",
      "173\n",
      "174\n",
      "175\n",
      "176\n",
      "177\n",
      "178\n",
      "179\n",
      "180\n"
     ]
    },
    {
     "data": {
      "text/plain": [
       " final_simplex: (array([[6.06826233e-05, 2.62759662e-06, 2.14216322e-09],\n",
       "       [6.05149914e-05, 2.63371815e-06, 2.14081198e-09],\n",
       "       [6.11931950e-05, 2.60726438e-06, 2.14648192e-09],\n",
       "       [6.14640670e-05, 2.59310993e-06, 2.14426802e-09]]), array([0.00237855, 0.00237959, 0.00239973, 0.00240199]))\n",
       "           fun: 0.002378552568510624\n",
       "       message: 'Maximum number of iterations has been exceeded.'\n",
       "          nfev: 181\n",
       "           nit: 100\n",
       "        status: 2\n",
       "       success: False\n",
       "             x: array([6.06826233e-05, 2.62759662e-06, 2.14216322e-09])"
      ]
     },
     "execution_count": 8,
     "metadata": {},
     "output_type": "execute_result"
    }
   ],
   "source": [
    "spm2.fit([t_exp], [v_exp], currents=[-0.5], bounds=bounds, method='Nelder-Mead', maxiter=100, tol=1e-7)\n",
    "# spm2.refit()"
   ]
  },
  {
   "cell_type": "code",
   "execution_count": 9,
   "metadata": {},
   "outputs": [],
   "source": [
    "true_values = np.array([3.9e-14, 1e-14, 2e-6, 2e-6, 303.15, 723600, 885000, 1000, 30555, 51555, 5.0307e-9, 2.334e-9, 88e-6, 80e-6])"
   ]
  },
  {
   "cell_type": "code",
   "execution_count": 10,
   "metadata": {},
   "outputs": [
    {
     "ename": "IndexError",
     "evalue": "index 15 is out of bounds for axis 0 with size 14",
     "output_type": "error",
     "traceback": [
      "\u001b[1;31m---------------------------------------------------------------------------\u001b[0m",
      "\u001b[1;31mIndexError\u001b[0m                                Traceback (most recent call last)",
      "\u001b[1;32m<ipython-input-10-3ec5ee8c6276>\u001b[0m in \u001b[0;36m<module>\u001b[1;34m()\u001b[0m\n\u001b[1;32m----> 1\u001b[1;33m \u001b[0merror\u001b[0m \u001b[1;33m=\u001b[0m \u001b[1;33m(\u001b[0m\u001b[0mspm2\u001b[0m\u001b[1;33m.\u001b[0m\u001b[0mfitted_parameters\u001b[0m\u001b[1;33m-\u001b[0m\u001b[0mtrue_values\u001b[0m\u001b[1;33m[\u001b[0m\u001b[0mspm2\u001b[0m\u001b[1;33m.\u001b[0m\u001b[0mestimate_inds\u001b[0m\u001b[1;33m]\u001b[0m\u001b[1;33m)\u001b[0m\u001b[1;33m/\u001b[0m\u001b[0mtrue_values\u001b[0m\u001b[1;33m[\u001b[0m\u001b[0mspm2\u001b[0m\u001b[1;33m.\u001b[0m\u001b[0mestimate_inds\u001b[0m\u001b[1;33m]\u001b[0m\u001b[1;33m*\u001b[0m\u001b[1;36m100\u001b[0m\u001b[1;33m\u001b[0m\u001b[0m\n\u001b[0m\u001b[0;32m      2\u001b[0m \u001b[0mprint\u001b[0m\u001b[1;33m(\u001b[0m\u001b[1;34m\"Percent error for the estimated parameters:\"\u001b[0m\u001b[1;33m)\u001b[0m\u001b[1;33m\u001b[0m\u001b[0m\n\u001b[0;32m      3\u001b[0m \u001b[0mprint\u001b[0m\u001b[1;33m(\u001b[0m\u001b[0mnp\u001b[0m\u001b[1;33m.\u001b[0m\u001b[0marray\u001b[0m\u001b[1;33m(\u001b[0m\u001b[1;33m[\u001b[0m\u001b[0mkey\u001b[0m \u001b[1;32mfor\u001b[0m \u001b[0mkey\u001b[0m \u001b[1;32min\u001b[0m \u001b[0mspm2\u001b[0m\u001b[1;33m.\u001b[0m\u001b[0minitial_parameters\u001b[0m\u001b[1;33m.\u001b[0m\u001b[0mkeys\u001b[0m\u001b[1;33m(\u001b[0m\u001b[1;33m)\u001b[0m\u001b[1;33m]\u001b[0m\u001b[1;33m)\u001b[0m\u001b[1;33m[\u001b[0m\u001b[0mspm2\u001b[0m\u001b[1;33m.\u001b[0m\u001b[0mestimate_inds\u001b[0m\u001b[1;33m]\u001b[0m\u001b[1;33m)\u001b[0m\u001b[1;33m\u001b[0m\u001b[0m\n\u001b[0;32m      4\u001b[0m \u001b[0mprint\u001b[0m\u001b[1;33m(\u001b[0m\u001b[0merror\u001b[0m\u001b[1;33m)\u001b[0m\u001b[1;33m\u001b[0m\u001b[0m\n",
      "\u001b[1;31mIndexError\u001b[0m: index 15 is out of bounds for axis 0 with size 14"
     ]
    }
   ],
   "source": [
    "error = (spm2.fitted_parameters-true_values[spm2.estimate_inds])/true_values[spm2.estimate_inds]*100\n",
    "print(\"Percent error for the estimated parameters:\")\n",
    "print(np.array([key for key in spm2.initial_parameters.keys()])[spm2.estimate_inds])\n",
    "print(error)"
   ]
  },
  {
   "cell_type": "code",
   "execution_count": 11,
   "metadata": {},
   "outputs": [
    {
     "data": {
      "text/plain": [
       "<matplotlib.legend.Legend at 0x1df1f75ef60>"
      ]
     },
     "execution_count": 11,
     "metadata": {},
     "output_type": "execute_result"
    },
    {
     "data": {
      "image/png": "[encoded data removed]",
      "text/plain": [
       "<matplotlib.figure.Figure at 0x1df1fcba5f8>"
      ]
     },
     "metadata": {},
     "output_type": "display_data"
    }
   ],
   "source": [
    "fit_data = spm2.charge(current=0.5, trim=True)\n",
    "plt.plot(t_exp, v_exp, label='Voltage, battery 1')\n",
    "plt.plot(t_exp, curr_exp, label='Current, battery 1')\n",
    "plt.plot(fit_data[0], fit_data[1], label='Voltage, fit')\n",
    "plt.plot(fit_data[0], fit_data[2], label='Current, fit')\n",
    "\n",
    "plt.legend()"
   ]
  },
  {
   "cell_type": "markdown",
   "metadata": {},
   "source": [
    "### What about fitting 2 simultaneous currents?"
   ]
  },
  {
   "cell_type": "code",
   "execution_count": 12,
   "metadata": {},
   "outputs": [
    {
     "name": "stdout",
     "output_type": "stream",
     "text": [
      "7 3 7 3 3\n",
      "[array([[ 0.00000000e+00,  1.60320641e+01,  3.20641283e+01, ...,\n",
      "         7.19839679e+03,  7.21442886e+03,  7.23046092e+03],\n",
      "       [ 4.13605752e+00,  4.13084864e+00,  4.12781106e+00, ...,\n",
      "         3.00948879e+00,  2.89512891e+00,  2.71124366e+00],\n",
      "       [-5.00000000e-01, -5.00000000e-01, -5.00000000e-01, ...,\n",
      "        -5.00000000e-01, -5.00000000e-01, -5.00000000e-01]]), array([[0.00000000e+00, 1.00200401e+01, 2.00400802e+01, ...,\n",
      "        4.27855711e+03, 4.28857715e+03, 4.29859719e+03],\n",
      "       [2.97731830e+00, 3.28454604e+00, 3.35116830e+00, ...,\n",
      "        4.20000000e+00, 4.20000000e+00, 4.20000000e+00],\n",
      "       [1.00000000e+00, 1.00000000e+00, 1.00000000e+00, ...,\n",
      "        1.15954919e-02, 1.09276055e-02, 1.02990645e-02]])]\n"
     ]
    },
    {
     "data": {
      "text/plain": [
       "<matplotlib.legend.Legend at 0x1df1f7e4e48>"
      ]
     },
     "execution_count": 12,
     "metadata": {},
     "output_type": "execute_result"
    },
    {
     "data": {
      "image/png": "[encoded data removed]",
      "text/plain": [
       "<matplotlib.figure.Figure at 0x1df1f62dcc0>"
      ]
     },
     "metadata": {},
     "output_type": "display_data"
    }
   ],
   "source": [
    "a = []\n",
    "a.append(spm1.discharge(current=0.5, trim=True))\n",
    "a.append(spm1.charge(current=1.0, trim=True))\n",
    "\n",
    "# re-initialize battery 2 in order to reset the initial guess\n",
    "spm2 = PseudoTwoDimFD(estimate_parameters=['Rpp','lp'])\n",
    "b = []\n",
    "b.append(spm2.discharge(current=0.5, trim=True))\n",
    "b.append(spm2.charge(current=1.0, trim=True))\n",
    "print(a)\n",
    "t_exp = [a[0][0], a[1][0]]\n",
    "v_exp = [a[0][1], a[1][1]]\n",
    "plt.plot(t_exp[0], v_exp[0], label='0.5c discharge, battery1')\n",
    "plt.plot(t_exp[1], v_exp[1], label = '1.0c charge, battery1')\n",
    "plt.plot(b[0][0], b[0][1], label='0.5c discharge, battery 2')\n",
    "plt.plot(b[1][0], b[1][1], label='1.0c charge, battery 2')\n",
    "plt.legend()"
   ]
  },
  {
   "cell_type": "code",
   "execution_count": 13,
   "metadata": {},
   "outputs": [
    {
     "name": "stdout",
     "output_type": "stream",
     "text": [
      "0\n",
      "1\n",
      "2\n",
      "3\n",
      "4\n",
      "5\n",
      "6\n",
      "7\n",
      "8\n",
      "9\n",
      "10\n",
      "11\n",
      "12\n",
      "13\n",
      "14\n",
      "15\n",
      "16\n",
      "17\n",
      "18\n",
      "19\n",
      "20\n",
      "21\n",
      "22\n",
      "23\n",
      "24\n"
     ]
    },
    {
     "data": {
      "text/plain": [
       " final_simplex: (array([[8.11337891e-06, 4.27176025e-05],\n",
       "       [7.96884766e-06, 4.26924072e-05],\n",
       "       [8.03918457e-06, 4.27162903e-05]]), array([0.24027765, 0.24030487, 0.24036907]))\n",
       "           fun: 0.24027764589247966\n",
       "       message: 'Optimization terminated successfully.'\n",
       "          nfev: 25\n",
       "           nit: 13\n",
       "        status: 0\n",
       "       success: True\n",
       "             x: array([8.11337891e-06, 4.27176025e-05])"
      ]
     },
     "execution_count": 13,
     "metadata": {},
     "output_type": "execute_result"
    }
   ],
   "source": [
    "spm2.fit(t_exp, v_exp, currents=[0.5,-1.0], maxiter=1000)"
   ]
  },
  {
   "cell_type": "code",
   "execution_count": 14,
   "metadata": {},
   "outputs": [
    {
     "ename": "IndexError",
     "evalue": "index 20 is out of bounds for axis 0 with size 14",
     "output_type": "error",
     "traceback": [
      "\u001b[1;31m---------------------------------------------------------------------------\u001b[0m",
      "\u001b[1;31mIndexError\u001b[0m                                Traceback (most recent call last)",
      "\u001b[1;32m<ipython-input-14-3ec5ee8c6276>\u001b[0m in \u001b[0;36m<module>\u001b[1;34m()\u001b[0m\n\u001b[1;32m----> 1\u001b[1;33m \u001b[0merror\u001b[0m \u001b[1;33m=\u001b[0m \u001b[1;33m(\u001b[0m\u001b[0mspm2\u001b[0m\u001b[1;33m.\u001b[0m\u001b[0mfitted_parameters\u001b[0m\u001b[1;33m-\u001b[0m\u001b[0mtrue_values\u001b[0m\u001b[1;33m[\u001b[0m\u001b[0mspm2\u001b[0m\u001b[1;33m.\u001b[0m\u001b[0mestimate_inds\u001b[0m\u001b[1;33m]\u001b[0m\u001b[1;33m)\u001b[0m\u001b[1;33m/\u001b[0m\u001b[0mtrue_values\u001b[0m\u001b[1;33m[\u001b[0m\u001b[0mspm2\u001b[0m\u001b[1;33m.\u001b[0m\u001b[0mestimate_inds\u001b[0m\u001b[1;33m]\u001b[0m\u001b[1;33m*\u001b[0m\u001b[1;36m100\u001b[0m\u001b[1;33m\u001b[0m\u001b[0m\n\u001b[0m\u001b[0;32m      2\u001b[0m \u001b[0mprint\u001b[0m\u001b[1;33m(\u001b[0m\u001b[1;34m\"Percent error for the estimated parameters:\"\u001b[0m\u001b[1;33m)\u001b[0m\u001b[1;33m\u001b[0m\u001b[0m\n\u001b[0;32m      3\u001b[0m \u001b[0mprint\u001b[0m\u001b[1;33m(\u001b[0m\u001b[0mnp\u001b[0m\u001b[1;33m.\u001b[0m\u001b[0marray\u001b[0m\u001b[1;33m(\u001b[0m\u001b[1;33m[\u001b[0m\u001b[0mkey\u001b[0m \u001b[1;32mfor\u001b[0m \u001b[0mkey\u001b[0m \u001b[1;32min\u001b[0m \u001b[0mspm2\u001b[0m\u001b[1;33m.\u001b[0m\u001b[0minitial_parameters\u001b[0m\u001b[1;33m.\u001b[0m\u001b[0mkeys\u001b[0m\u001b[1;33m(\u001b[0m\u001b[1;33m)\u001b[0m\u001b[1;33m]\u001b[0m\u001b[1;33m)\u001b[0m\u001b[1;33m[\u001b[0m\u001b[0mspm2\u001b[0m\u001b[1;33m.\u001b[0m\u001b[0mestimate_inds\u001b[0m\u001b[1;33m]\u001b[0m\u001b[1;33m)\u001b[0m\u001b[1;33m\u001b[0m\u001b[0m\n\u001b[0;32m      4\u001b[0m \u001b[0mprint\u001b[0m\u001b[1;33m(\u001b[0m\u001b[0merror\u001b[0m\u001b[1;33m)\u001b[0m\u001b[1;33m\u001b[0m\u001b[0m\n",
      "\u001b[1;31mIndexError\u001b[0m: index 20 is out of bounds for axis 0 with size 14"
     ]
    }
   ],
   "source": [
    "error = (spm2.fitted_parameters-true_values[spm2.estimate_inds])/true_values[spm2.estimate_inds]*100\n",
    "print(\"Percent error for the estimated parameters:\")\n",
    "print(np.array([key for key in spm2.initial_parameters.keys()])[spm2.estimate_inds])\n",
    "print(error)"
   ]
  },
  {
   "cell_type": "code",
   "execution_count": 15,
   "metadata": {},
   "outputs": [
    {
     "data": {
      "text/plain": [
       "<matplotlib.legend.Legend at 0x1df1f86fef0>"
      ]
     },
     "execution_count": 15,
     "metadata": {},
     "output_type": "execute_result"
    },
    {
     "data": {
      "image/png": "[encoded data removed]",
      "text/plain": [
       "<matplotlib.figure.Figure at 0x1df1f615e80>"
      ]
     },
     "metadata": {},
     "output_type": "display_data"
    }
   ],
   "source": [
    "b = []\n",
    "b.append(spm2.discharge(current=0.5, trim=True))\n",
    "b.append(spm2.charge(current=1.0, trim=True))\n",
    "# print(a)\n",
    "t_exp = [a[0][0], a[1][0]]\n",
    "v_exp = [a[0][1], a[1][1]]\n",
    "plt.plot(t_exp[0], v_exp[0], label='0.5c, battery1')\n",
    "plt.plot(t_exp[1], v_exp[1], label = '1.0c, battery1')\n",
    "plt.plot(b[1][0], b[1][2], label = 'battery 2, current')\n",
    "plt.plot(b[0][0], b[0][1], label='0.5c, battery 2')\n",
    "plt.plot(b[1][0], b[1][1], label='1.0c, battery 2')\n",
    "plt.legend()"
   ]
  },
  {
   "cell_type": "markdown",
   "metadata": {},
   "source": [
    "### What about cycling? Or arbitrary charge/discharge patterns?"
   ]
  },
  {
   "cell_type": "code",
   "execution_count": 9,
   "metadata": {},
   "outputs": [
    {
     "name": "stdout",
     "output_type": "stream",
     "text": [
      "[ 1.00000000e-14  1.00000000e-14  5.15550000e+04  3.05550000e+04\n",
      "  8.00000000e-05  8.80000000e-05  2.00000000e-06  2.00000000e-06\n",
      "  3.03150000e+02  1.00000000e+03  8.85000000e+05  7.23600000e+05\n",
      "  2.60000000e-02  2.10000000e+03  1.00000000e+00  2.33400000e-11\n",
      "  8.30700000e-12  1.50000000e-06  3.00000000e+01  3.00000000e+01\n",
      " -1.00000000e+00  1.00000000e+00  0.00000000e+00  5.00000000e+02\n",
      "  2.51417672e+04  2.51417672e+04  2.51417672e+04  2.51417672e+04\n",
      "  2.51417672e+04  2.51417672e+04  2.51417672e+04  2.51417672e+04\n",
      "  2.51417672e+04  2.51417672e+04  2.51417672e+04  2.51417672e+04\n",
      "  2.51417672e+04  2.51417672e+04  2.51417672e+04  2.51417672e+04\n",
      "  2.51417672e+04  2.51417672e+04  2.51417672e+04  2.51417672e+04\n",
      "  2.51417672e+04  2.51417672e+04  2.51417672e+04  2.51417672e+04\n",
      "  2.51417672e+04  2.51417672e+04  2.51417672e+04  2.51417672e+04\n",
      "  2.51417672e+04  2.51417672e+04  2.51417672e+04  2.51417672e+04\n",
      "  2.73921225e+00  2.73921225e+00  2.73921225e+00  2.73921225e+00\n",
      "  2.73921225e+00  2.73921225e+00  2.73921225e+00  2.73921225e+00\n",
      "  2.73921225e+00  2.73921225e+00  2.73921225e+00  2.73921225e+00\n",
      "  2.73921225e+00  2.73921225e+00  2.73921225e+00  2.73921225e+00\n",
      "  2.73921225e+00  2.73921225e+00  2.73921225e+00  2.73921225e+00\n",
      "  2.73921225e+00  2.73921225e+00  2.73921225e+00  2.73921225e+00\n",
      "  2.73921225e+00  2.73921225e+00  2.73921225e+00  2.73921225e+00\n",
      "  2.73921225e+00  2.73921225e+00  2.73921225e+00  2.73921225e+00\n",
      "  4.26700382e+00  6.70038247e-02  2.65295200e-03  7.34704800e-03\n",
      "  1.63513920e-10  3.08271510e+01  3.08183958e+01  8.75512593e-03\n",
      "  4.20000000e+00 -1.00000000e+00]\n",
      "[1.00000000e-14 1.00000000e-14 5.15550000e+04 3.05550000e+04\n",
      " 8.00000000e-05 8.80000000e-05 2.00000000e-06 2.00000000e-06\n",
      " 3.03150000e+02 1.00000000e+03 8.85000000e+05 7.23600000e+05\n",
      " 2.60000000e-02 2.10000000e+03 1.00000000e+00 2.33400000e-11\n",
      " 8.30700000e-12 1.50000000e-06 3.00000000e+01 3.00000000e+01\n",
      " 5.00000000e-01 1.00000000e+00 0.00000000e+00 4.00000000e+02\n",
      " 2.51417672e+04 2.51417672e+04 2.51417672e+04 2.51417672e+04\n",
      " 2.51417672e+04 2.51417672e+04 2.51417672e+04 2.51417672e+04\n",
      " 2.51417672e+04 2.51417672e+04 2.51417672e+04 2.51417672e+04\n",
      " 2.51417672e+04 2.51417672e+04 2.51417672e+04 2.51417672e+04\n",
      " 2.51417672e+04 2.51417672e+04 2.51417672e+04 2.51417672e+04\n",
      " 2.51417672e+04 2.51417672e+04 2.51417672e+04 2.51417672e+04\n",
      " 2.51417672e+04 2.51417672e+04 2.51417672e+04 2.51417672e+04\n",
      " 2.51417672e+04 2.51417672e+04 2.51417672e+04 2.51417672e+04\n",
      " 2.73921225e+00 2.73921225e+00 2.73921225e+00 2.73921225e+00\n",
      " 2.73921225e+00 2.73921225e+00 2.73921225e+00 2.73921225e+00\n",
      " 2.73921225e+00 2.73921225e+00 2.73921225e+00 2.73921225e+00\n",
      " 2.73921225e+00 2.73921225e+00 2.73921225e+00 2.73921225e+00\n",
      " 2.73921225e+00 2.73921225e+00 2.73921225e+00 2.73921225e+00\n",
      " 2.73921225e+00 2.73921225e+00 2.73921225e+00 2.73921225e+00\n",
      " 2.73921225e+00 2.73921225e+00 2.73921225e+00 2.73921225e+00\n",
      " 2.73921225e+00 2.73921225e+00 2.73921225e+00 2.73921225e+00\n",
      " 4.26700382e+00 6.70038247e-02 2.65295200e-03 7.34704800e-03\n",
      " 1.63513920e-10 3.08271510e+01 3.08183958e+01 8.75512593e-03\n",
      " 4.20000000e+00 1.00000000e-02]\n"
     ]
    },
    {
     "ename": "TypeError",
     "evalue": "list indices must be integers or slices, not tuple",
     "output_type": "error",
     "traceback": [
      "\u001b[1;31m---------------------------------------------------------------------------\u001b[0m",
      "\u001b[1;31mTypeError\u001b[0m                                 Traceback (most recent call last)",
      "\u001b[1;32m<ipython-input-9-b6b795937796>\u001b[0m in \u001b[0;36m<module>\u001b[1;34m()\u001b[0m\n\u001b[1;32m----> 1\u001b[1;33m \u001b[0mpwc\u001b[0m \u001b[1;33m=\u001b[0m \u001b[0mspm1\u001b[0m\u001b[1;33m.\u001b[0m\u001b[0mpiecewise_current\u001b[0m\u001b[1;33m(\u001b[0m\u001b[1;33m[\u001b[0m\u001b[1;36m500\u001b[0m\u001b[1;33m,\u001b[0m\u001b[1;36m400\u001b[0m\u001b[1;33m,\u001b[0m\u001b[1;36m600\u001b[0m\u001b[1;33m,\u001b[0m\u001b[1;36m200\u001b[0m\u001b[1;33m,\u001b[0m\u001b[1;36m50\u001b[0m\u001b[1;33m,\u001b[0m\u001b[1;36m700\u001b[0m\u001b[1;33m,\u001b[0m\u001b[1;36m300\u001b[0m\u001b[1;33m,\u001b[0m\u001b[1;36m2000\u001b[0m\u001b[1;33m]\u001b[0m\u001b[1;33m,\u001b[0m \u001b[1;33m[\u001b[0m\u001b[1;36m1.0\u001b[0m\u001b[1;33m,\u001b[0m\u001b[1;33m-\u001b[0m\u001b[1;36m0.5\u001b[0m\u001b[1;33m,\u001b[0m\u001b[1;36m1.2\u001b[0m\u001b[1;33m,\u001b[0m\u001b[1;33m-\u001b[0m\u001b[1;36m0.75\u001b[0m\u001b[1;33m,\u001b[0m\u001b[1;36m2.0\u001b[0m\u001b[1;33m,\u001b[0m\u001b[1;36m0.5\u001b[0m\u001b[1;33m,\u001b[0m\u001b[1;33m-\u001b[0m\u001b[1;36m1.0\u001b[0m\u001b[1;33m,\u001b[0m\u001b[1;36m1.5\u001b[0m\u001b[1;33m]\u001b[0m\u001b[1;33m)\u001b[0m\u001b[1;33m\u001b[0m\u001b[0m\n\u001b[0m\u001b[0;32m      2\u001b[0m \u001b[0mt_exp\u001b[0m \u001b[1;33m=\u001b[0m \u001b[0mpwc\u001b[0m\u001b[1;33m[\u001b[0m\u001b[1;36m0\u001b[0m\u001b[1;33m]\u001b[0m\u001b[1;33m\u001b[0m\u001b[0m\n\u001b[0;32m      3\u001b[0m \u001b[0mv_exp\u001b[0m \u001b[1;33m=\u001b[0m \u001b[0mpwc\u001b[0m\u001b[1;33m[\u001b[0m\u001b[1;36m1\u001b[0m\u001b[1;33m]\u001b[0m\u001b[1;33m\u001b[0m\u001b[0m\n\u001b[0;32m      4\u001b[0m \u001b[0mplt\u001b[0m\u001b[1;33m.\u001b[0m\u001b[0mplot\u001b[0m\u001b[1;33m(\u001b[0m\u001b[0mpwc\u001b[0m\u001b[1;33m[\u001b[0m\u001b[1;36m0\u001b[0m\u001b[1;33m]\u001b[0m\u001b[1;33m,\u001b[0m \u001b[0mpwc\u001b[0m\u001b[1;33m[\u001b[0m\u001b[1;36m1\u001b[0m\u001b[1;33m]\u001b[0m\u001b[1;33m)\u001b[0m\u001b[1;33m\u001b[0m\u001b[0m\n\u001b[0;32m      5\u001b[0m \u001b[0mplt\u001b[0m\u001b[1;33m.\u001b[0m\u001b[0mplot\u001b[0m\u001b[1;33m(\u001b[0m\u001b[0mpwc\u001b[0m\u001b[1;33m[\u001b[0m\u001b[1;36m0\u001b[0m\u001b[1;33m]\u001b[0m\u001b[1;33m,\u001b[0m \u001b[0mpwc\u001b[0m\u001b[1;33m[\u001b[0m\u001b[1;36m2\u001b[0m\u001b[1;33m]\u001b[0m\u001b[1;33m)\u001b[0m\u001b[1;33m\u001b[0m\u001b[0m\n",
      "\u001b[1;32m~\\Desktop\\Research\\Github\\battery\\battery\\battery.py\u001b[0m in \u001b[0;36mpiecewise_current\u001b[1;34m(self, times, currents, n_steps, from_current_state, p)\u001b[0m\n\u001b[0;32m    194\u001b[0m                     \u001b[1;31m# print(out)\u001b[0m\u001b[1;33m\u001b[0m\u001b[1;33m\u001b[0m\u001b[0m\n\u001b[0;32m    195\u001b[0m             \u001b[1;32mif\u001b[0m \u001b[0mcount\u001b[0m \u001b[1;33m>\u001b[0m \u001b[1;36m0\u001b[0m\u001b[1;33m:\u001b[0m\u001b[1;33m\u001b[0m\u001b[0m\n\u001b[1;32m--> 196\u001b[1;33m                 \u001b[0mout\u001b[0m\u001b[1;33m[\u001b[0m\u001b[1;36m0\u001b[0m\u001b[1;33m]\u001b[0m \u001b[1;33m+=\u001b[0m \u001b[0msolve\u001b[0m\u001b[1;33m[\u001b[0m\u001b[1;33m-\u001b[0m\u001b[1;36m1\u001b[0m\u001b[1;33m]\u001b[0m\u001b[1;33m[\u001b[0m\u001b[1;36m0\u001b[0m\u001b[1;33m,\u001b[0m\u001b[1;33m-\u001b[0m\u001b[1;36m1\u001b[0m\u001b[1;33m]\u001b[0m\u001b[1;33m\u001b[0m\u001b[0m\n\u001b[0m\u001b[0;32m    197\u001b[0m \u001b[1;33m\u001b[0m\u001b[0m\n\u001b[0;32m    198\u001b[0m             \u001b[0msolve\u001b[0m\u001b[1;33m.\u001b[0m\u001b[0mappend\u001b[0m\u001b[1;33m(\u001b[0m\u001b[0mout\u001b[0m\u001b[1;33m)\u001b[0m\u001b[1;33m\u001b[0m\u001b[0m\n",
      "\u001b[1;31mTypeError\u001b[0m: list indices must be integers or slices, not tuple"
     ]
    }
   ],
   "source": [
    "pwc = spm1.piecewise_current([500,400,600,200,50,700,300,2000], [1.0,-0.5,1.2,-0.75,2.0,0.5,-1.0,1.5])\n",
    "t_exp = pwc[0]\n",
    "v_exp = pwc[1]\n",
    "plt.plot(pwc[0], pwc[1])\n",
    "plt.plot(pwc[0], pwc[2])"
   ]
  },
  {
   "cell_type": "code",
   "execution_count": 6,
   "metadata": {},
   "outputs": [
    {
     "data": {
      "text/plain": [
       " final_simplex: (array([[1.98518800e-06, 1.20510266e-09, 8.06428498e-05],\n",
       "       [1.98507214e-06, 1.19270705e-09, 8.06475759e-05],\n",
       "       [1.98525237e-06, 1.20572710e-09, 8.06406685e-05],\n",
       "       [1.98542948e-06, 1.21266344e-09, 8.06333374e-05]]), array([4.88384960e-05, 4.88429854e-05, 4.88435458e-05, 4.88440599e-05]))\n",
       "           fun: 4.883849602029821e-05\n",
       "       message: 'Optimization terminated successfully.'\n",
       "          nfev: 144\n",
       "           nit: 80\n",
       "        status: 0\n",
       "       success: True\n",
       "             x: array([1.98518800e-06, 1.20510266e-09, 8.06428498e-05])"
      ]
     },
     "execution_count": 6,
     "metadata": {},
     "output_type": "execute_result"
    }
   ],
   "source": [
    "spm2 = SingleParticle(initial_parameters=p1, estimate_parameters=['Rp','kp','lp'])\n",
    "pwc = spm2.piecewise_current([500,400,600,200,50,700,300,2000], [1.0,-0.5,1.2,-0.75,2.0,0.5,-1.0,1.5])\n",
    "t_initial = pwc[0]\n",
    "v_initial = pwc[1]\n",
    "spm2.fit([500,400,600,200,50,700,300,2000], v_exp, currents=[1.0,-0.5,1.2,-0.75,2.0,0.5,-1.0,1.5], currents_type='piecewise', tol=1e-8, maxiter=1000)\n"
   ]
  },
  {
   "cell_type": "code",
   "execution_count": 7,
   "metadata": {},
   "outputs": [
    {
     "data": {
      "text/plain": [
       "<matplotlib.legend.Legend at 0x237e9fd9c50>"
      ]
     },
     "execution_count": 7,
     "metadata": {},
     "output_type": "execute_result"
    },
    {
     "data": {
      "image/png": "[encoded data removed]",
      "text/plain": [
       "<matplotlib.figure.Figure at 0x237ce238f28>"
      ]
     },
     "metadata": {},
     "output_type": "display_data"
    }
   ],
   "source": [
    "plt.plot(t_exp, v_exp, label='experimental')\n",
    "plt.plot(t_initial, v_initial, label = 'initial')\n",
    "pwc = spm2.piecewise_current([500,400,600,200,50,700,300,2000], [1.0,-0.5,1.2,-0.75,2.0,0.5,-1.0,1.5])\n",
    "plt.plot(pwc[0], pwc[1], label='converged fit')\n",
    "plt.legend()"
   ]
  },
  {
   "cell_type": "code",
   "execution_count": 16,
   "metadata": {},
   "outputs": [
    {
     "name": "stdout",
     "output_type": "stream",
     "text": [
      "Percent error for the estimated parameters:\n",
      "['Rp' 'kp' 'lp']\n",
      "[ -1.46185022 -67.51891959   1.49276063]\n"
     ]
    }
   ],
   "source": [
    "error = (spm2.fitted_parameters-true_values[spm2.estimate_inds])/true_values[spm2.estimate_inds]*100\n",
    "print(\"Percent error for the estimated parameters:\")\n",
    "print(np.array([key for key in spm2.initial_parameters.keys()])[spm2.estimate_inds])\n",
    "print(error)"
   ]
  },
  {
   "cell_type": "markdown",
   "metadata": {},
   "source": [
    "## Comments? Questions? Suggestions?\n",
    "\n",
    "Please feel free to contact me at\n",
    "\n",
    "### nealde@uw.edu"
   ]
  }
 ],
 "metadata": {
  "kernelspec": {
   "display_name": "Python 3",
   "language": "python",
   "name": "python3"
  },
  "language_info": {
   "codemirror_mode": {
    "name": "ipython",
    "version": 3
   },
   "file_extension": ".py",
   "mimetype": "text/x-python",
   "name": "python",
   "nbconvert_exporter": "python",
   "pygments_lexer": "ipython3",
   "version": "3.6.4"
  }
 },
 "nbformat": 4,
 "nbformat_minor": 2
}
