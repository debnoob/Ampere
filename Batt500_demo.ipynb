{
 "cells": [
  {
   "cell_type": "markdown",
   "metadata": {},
   "source": [
    "# Welcome to the Battery.py Demonstration Notebook!\n",
    "\n",
    "This notebook will walk you through using battery.py, and show a few different use cases where the model can be used to fit experimental data.\n",
    "\n",
    "In order to begin, we will need to parametrize the model and select a model. This was done above with the line: \n",
    "\n",
    "```python\n",
    "from battery import SingleParticle```\n",
    "\n",
    "by hitting shift-tab while attempting to parametrize the model, we can view the docstring, which will tell us how to use the models.\n",
    "\n",
    "The model will start with reasonable defaults, but we can choose different defaults if we wish, by initializing a dictionary of all of the \n"
   ]
  },
  {
   "cell_type": "code",
   "execution_count": 1,
   "metadata": {},
   "outputs": [],
   "source": [
    "import numpy as np\n",
    "import matplotlib.pyplot as plt\n",
    "%matplotlib inline\n",
    "\n",
    "from battery import SingleParticleParabolic, SingleParticleFDSEI, SingleParticleFD"
   ]
  },
  {
   "cell_type": "markdown",
   "metadata": {},
   "source": [
    "### This notebook explores the Single Particle Model (SPM)\n",
    "\n",
    "The SPM examines various physical phenomena, including:\n",
    "* Solid phase diffusion in the spherical particles, as given by Fick's law:\n",
    "\n",
    "$\\frac{\\partial c_{s}}{\\partial t} = \\frac{D_s}{r^2}\\frac{\\partial}{\\partial r}(r^2 \\frac{\\partial c}{\\partial r})$\n",
    "\n",
    "\n",
    "* Reaction kinetics, as described by Butler-Volmer:\n",
    "\n",
    "$x_{surf} = \\frac{c_{surf}}{c_max} $\n",
    "\n",
    "$j = kc_{s,max}c^{0.5}_{e}(1-x_{surf})^{0.5}x_{surf}^{0.5}[exp(\\frac{0.5 F}{RT}\\eta)-exp(-\\frac{0.5 F}{RT}\\eta)]$\n",
    "\n",
    "* Solid-phase potential, as dictated by the surface concentration at the particles\n",
    "\n",
    "$\\eta = \\phi(x_{surf})-U$\n",
    "\n",
    "* The available parameters are as follows:\n",
    "\n",
    "| name   | description                                 | default value | Units   |\n",
    "|--------|---------------------------------------------|---------------|---------|\n",
    "| Dn     | Li+ Diffusivity in negative particle        | 3.9e-14       | m^2/s  |\n",
    "| Dp     | Li+ Diffusivity in positive particle        | 1e-14         | m^2/s  |\n",
    "| Rn     | Negative particle radius                    | 2e-6          | m       |\n",
    "| Rp     | Positive particle radius                    | 2e-6          | m       |\n",
    "| T      | Ambient Temperature                         | 303.15        | K       |\n",
    "| an     | Surface area per unit volume of negative electrode          | 723600        |   m^2/m^3      |\n",
    "| ap     | Surface area per unit volume of positive electrode          | 885000        |    m^2/m^3     |\n",
    "| ce     | Starting electrolyte Li+ concentration      | 1000          | mol/m^3 |\n",
    "| csnmax | Maximum Li+ concentration of negative solid | 30555         | mol/m^3 |\n",
    "| cspmax | Maximum Li+ concentration of positive solid | 51555         | mol/m^3 |\n",
    "| kn     | Negative electrode reaction rate            | 5.0307e-9     | m^4/mol s        |\n",
    "| kp     | Positive electrode reaction rate            | 2.334e-9      |   m^4/mol s      |\n",
    "| ln     | Negative electrode thickness                | 88e-6         | m       |\n",
    "| lp     | Positive electrode thickness                | 80e-6         | m       |\n"
   ]
  },
  {
   "cell_type": "code",
   "execution_count": 2,
   "metadata": {},
   "outputs": [
    {
     "name": "stdout",
     "output_type": "stream",
     "text": [
      "{'Dp': 1e-14, 'Dn': 1e-14, 'cspmax': 51555.0, 'csnmax': 30555.0, 'lp': 8e-05, 'ln': 8.8e-05, 'Rp': 2e-06, 'Rn': 2e-06, 'T': 303.15, 'ce': 1000.0, 'ap': 885000.0, 'an': 723600.0, 'kp': 2.334e-11, 'kn': 8.307e-12, 'N1': 30, 'N2': 30}\n"
     ]
    }
   ],
   "source": [
    "labels = ['Dn','Dp','Rn','Rp','T','an','ap','ce','csnmax','cspmax','kn','kp','ln','lp']\n",
    "values = [3.9e-14, 1e-14, 2e-6, 2e-6, 303.15, 723600, 885000, 1000, 30555, 51555, 5.0307e-9, 2.334e-9, 88e-6, 80e-6]\n",
    "p1 = dict(zip(labels, values))\n",
    "\n",
    "spm1 = SingleParticleFD()\n",
    "print(spm1.initial_parameters)\n",
    "# print(spm1.estimate_inds)"
   ]
  },
  {
   "cell_type": "markdown",
   "metadata": {},
   "source": [
    "### Traditional fitting approach:\n",
    "* acquire experimental data\n",
    "* select model\n",
    "* solve model \n",
    "* select optimizer\n",
    "* interface model and optimizer\n",
    "* repeatedly call until the fits look about right\n",
    "* put into plotting software\n",
    "* optional analysis: confidence intervals, fitting only select parameters"
   ]
  },
  {
   "cell_type": "code",
   "execution_count": 3,
   "metadata": {},
   "outputs": [],
   "source": [
    "# p = [3.9e-14, 1e-14, 2e-06, 2e-06, 303.15, 723600.0, 885000.0, 1000.0, 30550.0, 51555.0, 5.0307e-09, 2.334e-09, 8.8e-05, 8e-05, 1.0, 1]\n",
    "# cc = [1]\n",
    "# tf = [5000.]\n",
    "# initial = [49503.0611, 305.605527, 49327.3985, 355.685791, 3.78436346, 0.786330739, 1.0]\n",
    "# input1 = np.concatenate([p,cc,tf])\n",
    "# print(input1.shape)\n",
    "# a = np.array([1,2,3,4,5])\n",
    "# b = np.array([2,3,4,5,6])\n",
    "# c = np.concatenate([a.reshape(-1,1),b.reshape(-1,1)], axis=1)\n",
    "# print(c)\n",
    "\n",
    "# a = np.random.rand(15,20)\n",
    "# print(a[:,[-1,-2]])\n",
    "# print(a[:,[-2,-1]])\n",
    "# print(a[:,-1], a[:,-2])\n",
    "# aa = [1e-14, 1e-14, 51555.0, 30555.0, 8e-05, 8.8e-05, 2e-06, 2e-06, 303.15, 1000.0, 885000.0, 723600.0, 0.026, 2100.0, 1.0, 2.334e-11, 8.307e-12, 1.5e-06, 30.0, 30.0, 1.0, 1]\n",
    "# print(aa[20])\n",
    "# input1=[ 1.00000000e-14,1.00000000e-14,5.15550000e+04,3.05550000e+04\n",
    "# ,8.00000000e-05,8.80000000e-05,2.00000000e-06,2.00000000e-06\n",
    "# ,3.03150000e+02,1.00000000e+03,8.85000000e+05,7.23600000e+05\n",
    "# ,2.60000000e-02,2.10000000e+03,1.00000000e+00,2.33400000e-11\n",
    "# ,8.30700000e-12,1.50000000e-06,3.00000000e+01,3.00000000e+01\n",
    "#  -5.00000000e-01,1.00000000e+00,0.00000000e+00,8.00000000e+03\n",
    "# ,4.26700382e+00,6.70038247e-02,2.65295200e-03,7.34704800e-03\n",
    "# ,1.63513920e-10,3.08271510e+01,3.08183958e+01,8.75512593e-03\n",
    "# ,4.20000000e+00,1.00000000e-02]\n",
    "# print(len(input1))"
   ]
  },
  {
   "cell_type": "code",
   "execution_count": 4,
   "metadata": {},
   "outputs": [
    {
     "name": "stdout",
     "output_type": "stream",
     "text": [
      "[25817.37, 25817.37, 25817.37, 25817.37, 25817.37, 25817.37, 25817.37, 25817.37, 25817.37, 25817.37, 25817.37, 25817.37, 25817.37, 25817.37, 25817.37, 25817.37, 25817.37, 25817.37, 25817.37, 25817.37, 25817.37, 25817.37, 25817.37, 25817.37, 25817.37, 25817.37, 25817.37, 25817.37, 25817.37, 25817.37, 25817.37, 25817.37, 26885.03, 26885.03, 26885.03, 26885.03, 26885.03, 26885.03, 26885.03, 26885.03, 26885.03, 26885.03, 26885.03, 26885.03, 26885.03, 26885.03, 26885.03, 26885.03, 26885.03, 26885.03, 26885.03, 26885.03, 26885.03, 26885.03, 26885.03, 26885.03, 26885.03, 26885.03, 26885.03, 26885.03, 26885.03, 26885.03, 26885.03, 26885.03, 4.246347, 0.046347, 4.2, 0.01]\n"
     ]
    }
   ],
   "source": [
    "print(spm1.discharge_ICs)"
   ]
  },
  {
   "cell_type": "code",
   "execution_count": 5,
   "metadata": {},
   "outputs": [
    {
     "name": "stdout",
     "output_type": "stream",
     "text": [
      "[array([[0.00000000e+00, 2.90078101e+00, 5.00000000e-01],\n",
      "       [1.00000000e+01, 3.12447819e+00, 5.00000000e-01],\n",
      "       [2.00000000e+01, 3.19593522e+00, 5.00000000e-01],\n",
      "       ...,\n",
      "       [8.45105827e+03, 4.20000000e+00, 3.56428983e-04],\n",
      "       [8.46105827e+03, 4.20000000e+00, 3.35999217e-04],\n",
      "       [8.46240312e+03, 4.20000000e+00, 3.33333333e-04]]), array([1.23134485e+03, 2.51420914e+04, 2.51420912e+04, 2.51420906e+04,\n",
      "       2.51420896e+04, 2.51420883e+04, 2.51420865e+04, 2.51420844e+04,\n",
      "       2.51420819e+04, 2.51420790e+04, 2.51420758e+04, 2.51420722e+04,\n",
      "       2.51420682e+04, 2.51420638e+04, 2.51420592e+04, 2.51420541e+04,\n",
      "       2.51420488e+04, 2.51420431e+04, 2.51420371e+04, 2.51420308e+04,\n",
      "       2.51420242e+04, 2.51420173e+04, 2.51420101e+04, 2.51420026e+04,\n",
      "       2.51419949e+04, 2.51419870e+04, 2.51419788e+04, 2.51419703e+04,\n",
      "       2.51419617e+04, 2.51419529e+04, 2.51419438e+04, 2.51419346e+04,\n",
      "       2.51419253e+04, 2.73917131e+04, 2.73917133e+04, 2.73917139e+04,\n",
      "       2.73917150e+04, 2.73917165e+04, 2.73917185e+04, 2.73917208e+04,\n",
      "       2.73917236e+04, 2.73917268e+04, 2.73917304e+04, 2.73917345e+04,\n",
      "       2.73917389e+04, 2.73917437e+04, 2.73917489e+04, 2.73917545e+04,\n",
      "       2.73917604e+04, 2.73917668e+04, 2.73917734e+04, 2.73917805e+04,\n",
      "       2.73917878e+04, 2.73917955e+04, 2.73918035e+04, 2.73918118e+04,\n",
      "       2.73918203e+04, 2.73918292e+04, 2.73918383e+04, 2.73918477e+04,\n",
      "       2.73918573e+04, 2.73918671e+04, 2.73918771e+04, 2.73918873e+04,\n",
      "       2.73918978e+04, 4.26699238e+00, 6.69923828e-02, 4.20000000e+00,\n",
      "       1.00000000e-02])]\n"
     ]
    },
    {
     "data": {
      "text/plain": [
       "<matplotlib.legend.Legend at 0x19a82d22198>"
      ]
     },
     "execution_count": 5,
     "metadata": {},
     "output_type": "execute_result"
    },
    {
     "data": {
      "image/png": "[encoded data removed]",
      "text/plain": [
       "<matplotlib.figure.Figure at 0x19afffe49e8>"
      ]
     },
     "metadata": {},
     "output_type": "display_data"
    }
   ],
   "source": [
    "import time\n",
    "# st = time.time()\n",
    "# for i in range(50):\n",
    "data = spm1.charge(current=0.5, trim=True\n",
    "# print(data.curr)\n",
    "# print(spm1.current_state)\n",
    "# data = spm1.discharge(current=1.0, trim=True, from_current_state=True)\n",
    "# print((time.time()-st)/50)\n",
    "plt.plot(data[0], data[1], label = 'Voltage')\n",
    "plt.plot(data[0], data[2], label = 'Current')\n",
    "plt.legend()"
   ]
  },
  {
   "cell_type": "code",
   "execution_count": 6,
   "metadata": {},
   "outputs": [
    {
     "name": "stdout",
     "output_type": "stream",
     "text": [
      "{'Dp': 1e-14, 'Dn': 1e-14, 'cspmax': 51555.0, 'csnmax': 30555.0, 'lp': 8e-05, 'ln': 8.8e-05, 'Rp': 2e-06, 'Rn': 2e-06, 'T': 303.15, 'ce': 1000.0, 'ap': 885000.0, 'an': 723600.0, 'M_sei': 0.026, 'rho_sei': 2100.0, 'Kappa_sei': 1.0, 'kp': 2.334e-11, 'kn': 8.307e-12, 'ksei': 1.5e-06, 'N1': 30, 'N2': 30}\n",
      "{'Dp': 1e-14, 'Dn': 1e-14, 'cspmax': 51555.0, 'csnmax': 30555.0, 'lp': 7.8e-05, 'ln': 8.8e-05, 'Rp': 2e-06, 'Rn': 2e-06, 'T': 303.15, 'ce': 1000.0, 'ap': 885000.0, 'an': 723600.0, 'M_sei': 0.026, 'rho_sei': 2100.0, 'Kappa_sei': 1.0, 'kp': 2.334e-09, 'kn': 8.307e-12, 'ksei': 1.5e-06, 'N1': 30, 'N2': 30}\n"
     ]
    },
    {
     "data": {
      "text/plain": [
       "<matplotlib.legend.Legend at 0x1f98001e9b0>"
      ]
     },
     "execution_count": 6,
     "metadata": {},
     "output_type": "execute_result"
    },
    {
     "data": {
      "image/png": "[encoded data removed]",
      "text/plain": [
       "<matplotlib.figure.Figure at 0x1f9ffbb63c8>"
      ]
     },
     "metadata": {},
     "output_type": "display_data"
    }
   ],
   "source": [
    "# generate experimental data with some set of parameters\n",
    "\n",
    "labels = ['Rp','lp','kp']\n",
    "values = [2.0e-6, 78e-6,2.334e-9]\n",
    "p1 = dict(zip(labels, values))\n",
    "# print(p1)\n",
    "\n",
    "bounds = [[1e-7,1e-5],[1e-7,1e-5],[1e-10,1e-8]]\n",
    "spm2 = SingleParticleFDSEI(initial_parameters=p1, estimate_parameters=['Rp','lp','kp'])\n",
    "print(spm1.initial_parameters)\n",
    "print(spm2.initial_parameters)\n",
    "\n",
    "# create the experimental data\n",
    "data = spm1.charge(current=0.5, trim=True)\n",
    "data2 = spm2.charge(current=0.5, trim=True)\n",
    "t_exp = data[0]\n",
    "v_exp = data[1]\n",
    "curr_exp = data[2]\n",
    "\n",
    "plt.plot(t_exp, v_exp, label='Voltage, battery 1')\n",
    "plt.plot(t_exp, curr_exp, label='Current, batter 1')\n",
    "plt.plot(data2[0], data2[1], label='Voltage, battery 2')\n",
    "plt.plot(data2[0], data2[2], label='Current, batter 2')\n",
    "\n",
    "plt.legend()"
   ]
  },
  {
   "cell_type": "code",
   "execution_count": 7,
   "metadata": {},
   "outputs": [
    {
     "name": "stderr",
     "output_type": "stream",
     "text": [
      "C:\\Users\\neal\\Anaconda3\\envs\\keras\\lib\\site-packages\\scipy\\optimize\\_minimize.py:430: RuntimeWarning: Method Nelder-Mead cannot handle constraints nor bounds.\n",
      "  RuntimeWarning)\n"
     ]
    },
    {
     "name": "stdout",
     "output_type": "stream",
     "text": [
      "0\n",
      "1\n",
      "2\n",
      "3\n",
      "4\n",
      "5\n",
      "6\n",
      "7\n",
      "8\n",
      "9\n",
      "10\n",
      "11\n",
      "12\n",
      "13\n",
      "14\n",
      "15\n",
      "16\n",
      "17\n",
      "18\n",
      "19\n",
      "20\n",
      "21\n",
      "22\n",
      "23\n",
      "24\n",
      "25\n",
      "26\n",
      "27\n",
      "28\n",
      "29\n",
      "30\n",
      "31\n",
      "32\n",
      "33\n",
      "34\n",
      "35\n",
      "36\n",
      "37\n",
      "38\n",
      "39\n",
      "40\n",
      "41\n",
      "42\n",
      "43\n",
      "44\n",
      "45\n",
      "46\n",
      "47\n",
      "48\n",
      "49\n",
      "50\n",
      "51\n",
      "52\n",
      "53\n",
      "54\n",
      "55\n",
      "56\n",
      "57\n",
      "58\n",
      "59\n",
      "60\n",
      "61\n",
      "62\n",
      "63\n",
      "64\n",
      "65\n",
      "66\n",
      "67\n",
      "68\n",
      "69\n",
      "70\n",
      "71\n",
      "72\n",
      "73\n",
      "74\n",
      "75\n",
      "76\n",
      "77\n",
      "78\n",
      "79\n",
      "80\n",
      "81\n",
      "82\n",
      "83\n",
      "84\n",
      "85\n",
      "86\n",
      "87\n",
      "88\n",
      "89\n",
      "90\n",
      "91\n",
      "92\n",
      "93\n",
      "94\n",
      "95\n",
      "96\n",
      "97\n",
      "98\n",
      "99\n",
      "100\n",
      "101\n",
      "102\n",
      "103\n",
      "104\n",
      "105\n",
      "106\n",
      "107\n",
      "108\n",
      "109\n",
      "110\n",
      "111\n",
      "112\n",
      "113\n",
      "114\n",
      "115\n",
      "116\n",
      "117\n",
      "118\n",
      "119\n",
      "120\n",
      "121\n",
      "122\n",
      "123\n",
      "124\n",
      "125\n",
      "126\n",
      "127\n",
      "128\n",
      "129\n",
      "130\n",
      "131\n",
      "132\n",
      "133\n",
      "134\n",
      "135\n",
      "136\n",
      "137\n",
      "138\n",
      "139\n",
      "140\n",
      "141\n",
      "142\n",
      "143\n",
      "144\n",
      "145\n",
      "146\n",
      "147\n",
      "148\n",
      "149\n",
      "150\n",
      "151\n",
      "152\n",
      "153\n",
      "154\n",
      "155\n",
      "156\n",
      "157\n",
      "158\n",
      "159\n",
      "160\n",
      "161\n",
      "162\n",
      "163\n",
      "164\n",
      "165\n",
      "166\n",
      "167\n",
      "168\n",
      "169\n",
      "170\n",
      "171\n",
      "172\n",
      "173\n",
      "174\n",
      "175\n",
      "176\n",
      "177\n",
      "178\n",
      "179\n",
      "180\n",
      "181\n",
      "182\n",
      "183\n",
      "184\n",
      "185\n",
      "186\n",
      "187\n",
      "188\n",
      "189\n",
      "190\n"
     ]
    },
    {
     "data": {
      "text/plain": [
       " final_simplex: (array([[5.80444522e-05, 2.74884092e-06, 1.75943571e-09],\n",
       "       [5.94933370e-05, 2.68301802e-06, 1.81233088e-09],\n",
       "       [5.96462371e-05, 2.67478445e-06, 1.81436728e-09],\n",
       "       [5.88087801e-05, 2.71021457e-06, 1.78850463e-09]]), array([0.00225612, 0.00232827, 0.00233281, 0.00233492]))\n",
       "           fun: 0.0022561199460950235\n",
       "       message: 'Maximum number of iterations has been exceeded.'\n",
       "          nfev: 191\n",
       "           nit: 100\n",
       "        status: 2\n",
       "       success: False\n",
       "             x: array([5.80444522e-05, 2.74884092e-06, 1.75943571e-09])"
      ]
     },
     "execution_count": 7,
     "metadata": {},
     "output_type": "execute_result"
    }
   ],
   "source": [
    "spm2.fit([t_exp], [v_exp], currents=[-0.5], bounds=bounds, method='Nelder-Mead', maxiter=100, tol=1e-7)\n",
    "# spm2.refit()"
   ]
  },
  {
   "cell_type": "code",
   "execution_count": 8,
   "metadata": {},
   "outputs": [],
   "source": [
    "true_values = np.array([3.9e-14, 1e-14, 2e-6, 2e-6, 303.15, 723600, 885000, 1000, 30555, 51555, 5.0307e-9, 2.334e-9, 88e-6, 80e-6])"
   ]
  },
  {
   "cell_type": "code",
   "execution_count": 9,
   "metadata": {},
   "outputs": [
    {
     "ename": "IndexError",
     "evalue": "index 15 is out of bounds for axis 0 with size 14",
     "output_type": "error",
     "traceback": [
      "\u001b[1;31m---------------------------------------------------------------------------\u001b[0m",
      "\u001b[1;31mIndexError\u001b[0m                                Traceback (most recent call last)",
      "\u001b[1;32m<ipython-input-9-3ec5ee8c6276>\u001b[0m in \u001b[0;36m<module>\u001b[1;34m()\u001b[0m\n\u001b[1;32m----> 1\u001b[1;33m \u001b[0merror\u001b[0m \u001b[1;33m=\u001b[0m \u001b[1;33m(\u001b[0m\u001b[0mspm2\u001b[0m\u001b[1;33m.\u001b[0m\u001b[0mfitted_parameters\u001b[0m\u001b[1;33m-\u001b[0m\u001b[0mtrue_values\u001b[0m\u001b[1;33m[\u001b[0m\u001b[0mspm2\u001b[0m\u001b[1;33m.\u001b[0m\u001b[0mestimate_inds\u001b[0m\u001b[1;33m]\u001b[0m\u001b[1;33m)\u001b[0m\u001b[1;33m/\u001b[0m\u001b[0mtrue_values\u001b[0m\u001b[1;33m[\u001b[0m\u001b[0mspm2\u001b[0m\u001b[1;33m.\u001b[0m\u001b[0mestimate_inds\u001b[0m\u001b[1;33m]\u001b[0m\u001b[1;33m*\u001b[0m\u001b[1;36m100\u001b[0m\u001b[1;33m\u001b[0m\u001b[0m\n\u001b[0m\u001b[0;32m      2\u001b[0m \u001b[0mprint\u001b[0m\u001b[1;33m(\u001b[0m\u001b[1;34m\"Percent error for the estimated parameters:\"\u001b[0m\u001b[1;33m)\u001b[0m\u001b[1;33m\u001b[0m\u001b[0m\n\u001b[0;32m      3\u001b[0m \u001b[0mprint\u001b[0m\u001b[1;33m(\u001b[0m\u001b[0mnp\u001b[0m\u001b[1;33m.\u001b[0m\u001b[0marray\u001b[0m\u001b[1;33m(\u001b[0m\u001b[1;33m[\u001b[0m\u001b[0mkey\u001b[0m \u001b[1;32mfor\u001b[0m \u001b[0mkey\u001b[0m \u001b[1;32min\u001b[0m \u001b[0mspm2\u001b[0m\u001b[1;33m.\u001b[0m\u001b[0minitial_parameters\u001b[0m\u001b[1;33m.\u001b[0m\u001b[0mkeys\u001b[0m\u001b[1;33m(\u001b[0m\u001b[1;33m)\u001b[0m\u001b[1;33m]\u001b[0m\u001b[1;33m)\u001b[0m\u001b[1;33m[\u001b[0m\u001b[0mspm2\u001b[0m\u001b[1;33m.\u001b[0m\u001b[0mestimate_inds\u001b[0m\u001b[1;33m]\u001b[0m\u001b[1;33m)\u001b[0m\u001b[1;33m\u001b[0m\u001b[0m\n\u001b[0;32m      4\u001b[0m \u001b[0mprint\u001b[0m\u001b[1;33m(\u001b[0m\u001b[0merror\u001b[0m\u001b[1;33m)\u001b[0m\u001b[1;33m\u001b[0m\u001b[0m\n",
      "\u001b[1;31mIndexError\u001b[0m: index 15 is out of bounds for axis 0 with size 14"
     ]
    }
   ],
   "source": [
    "error = (spm2.fitted_parameters-true_values[spm2.estimate_inds])/true_values[spm2.estimate_inds]*100\n",
    "print(\"Percent error for the estimated parameters:\")\n",
    "print(np.array([key for key in spm2.initial_parameters.keys()])[spm2.estimate_inds])\n",
    "print(error)"
   ]
  },
  {
   "cell_type": "code",
   "execution_count": 10,
   "metadata": {},
   "outputs": [
    {
     "data": {
      "text/plain": [
       "<matplotlib.legend.Legend at 0x1f98010edd8>"
      ]
     },
     "execution_count": 10,
     "metadata": {},
     "output_type": "execute_result"
    },
    {
     "data": {
      "image/png": "[encoded data removed]",
      "text/plain": [
       "<matplotlib.figure.Figure at 0x1f9ffb42ef0>"
      ]
     },
     "metadata": {},
     "output_type": "display_data"
    }
   ],
   "source": [
    "fit_data = spm2.charge(current=0.5, trim=True)\n",
    "plt.plot(t_exp, v_exp, label='Voltage, battery 1')\n",
    "plt.plot(t_exp, curr_exp, label='Current, battery 1')\n",
    "plt.plot(fit_data[0], fit_data[1], label='Voltage, fit')\n",
    "plt.plot(fit_data[0], fit_data[2], label='Current, fit')\n",
    "\n",
    "plt.legend()"
   ]
  },
  {
   "cell_type": "markdown",
   "metadata": {},
   "source": [
    "### What about fitting 2 simultaneous currents?"
   ]
  },
  {
   "cell_type": "code",
   "execution_count": 9,
   "metadata": {},
   "outputs": [
    {
     "name": "stdout",
     "output_type": "stream",
     "text": [
      "[array([[ 0.00000000e+00,  1.60320641e+01,  3.20641283e+01, ...,\n",
      "         7.35871743e+03,  7.37474950e+03,  7.39078156e+03],\n",
      "       [ 4.19387361e+00,  4.19069351e+00,  4.18757687e+00, ...,\n",
      "         3.04197477e+00,  2.90632929e+00,  2.67766490e+00],\n",
      "       [-5.00000000e-01, -5.00000000e-01, -5.00000000e-01, ...,\n",
      "        -5.00000000e-01, -5.00000000e-01, -5.00000000e-01]]), array([[0.00000000e+00, 1.00200401e+01, 2.00400802e+01, ...,\n",
      "        3.76753507e+03, 3.77755511e+03, 3.78757515e+03],\n",
      "       [2.96048606e+00, 3.10293235e+00, 3.18816153e+00, ...,\n",
      "        4.20000000e+00, 4.20000000e+00, 4.20000000e+00],\n",
      "       [1.00000000e+00, 1.00000000e+00, 1.00000000e+00, ...,\n",
      "        2.27858538e-02, 1.52511435e-02, 1.02055092e-02]])]\n"
     ]
    },
    {
     "data": {
      "text/plain": [
       "<matplotlib.legend.Legend at 0x1dd8f0f8b70>"
      ]
     },
     "execution_count": 9,
     "metadata": {},
     "output_type": "execute_result"
    },
    {
     "data": {
      "image/png": "[encoded data removed]",
      "text/plain": [
       "<matplotlib.figure.Figure at 0x1ddffb12208>"
      ]
     },
     "metadata": {},
     "output_type": "display_data"
    }
   ],
   "source": [
    "a = []\n",
    "a.append(spm1.discharge(current=0.5, trim=True))\n",
    "a.append(spm1.charge(current=1.0, trim=True))\n",
    "\n",
    "# re-initialize battery 2 in order to reset the initial guess\n",
    "spm2 = SingleParticle(initial_parameters=p1, estimate_parameters=['Rp','lp'])\n",
    "b = []\n",
    "b.append(spm2.discharge(current=0.5, trim=True))\n",
    "b.append(spm2.charge(current=1.0, trim=True))\n",
    "print(a)\n",
    "t_exp = [a[0][0], a[1][0]]\n",
    "v_exp = [a[0][1], a[1][1]]\n",
    "plt.plot(t_exp[0], v_exp[0], label='0.5c discharge, battery1')\n",
    "plt.plot(t_exp[1], v_exp[1], label = '1.0c charge, battery1')\n",
    "plt.plot(b[0][0], b[0][1], label='0.5c discharge, battery 2')\n",
    "plt.plot(b[1][0], b[1][1], label='1.0c charge, battery 2')\n",
    "plt.legend()"
   ]
  },
  {
   "cell_type": "code",
   "execution_count": 10,
   "metadata": {},
   "outputs": [
    {
     "data": {
      "text/plain": [
       " final_simplex: (array([[1.77139893e-06, 9.01812744e-05],\n",
       "       [1.76062317e-06, 9.07777405e-05],\n",
       "       [1.74345703e-06, 9.16259766e-05]]), array([0.00076992, 0.00077648, 0.00084287]))\n",
       "           fun: 0.0007699163046288879\n",
       "       message: 'Optimization terminated successfully.'\n",
       "          nfev: 34\n",
       "           nit: 19\n",
       "        status: 0\n",
       "       success: True\n",
       "             x: array([1.77139893e-06, 9.01812744e-05])"
      ]
     },
     "execution_count": 10,
     "metadata": {},
     "output_type": "execute_result"
    }
   ],
   "source": [
    "spm2.fit(t_exp, v_exp, currents=[0.5,-1.0], maxiter=1000)"
   ]
  },
  {
   "cell_type": "code",
   "execution_count": 11,
   "metadata": {},
   "outputs": [
    {
     "name": "stdout",
     "output_type": "stream",
     "text": [
      "Percent error for the estimated parameters:\n",
      "['Rp' 'lp']\n",
      "[-11.43005371  12.72659302]\n"
     ]
    }
   ],
   "source": [
    "error = (spm2.fitted_parameters-true_values[spm2.estimate_inds])/true_values[spm2.estimate_inds]*100\n",
    "print(\"Percent error for the estimated parameters:\")\n",
    "print(np.array([key for key in spm2.initial_parameters.keys()])[spm2.estimate_inds])\n",
    "print(error)"
   ]
  },
  {
   "cell_type": "code",
   "execution_count": 12,
   "metadata": {},
   "outputs": [
    {
     "data": {
      "text/plain": [
       "<matplotlib.legend.Legend at 0x1dd8f15a908>"
      ]
     },
     "execution_count": 12,
     "metadata": {},
     "output_type": "execute_result"
    },
    {
     "data": {
      "image/png": "[encoded data removed]",
      "text/plain": [
       "<matplotlib.figure.Figure at 0x1ddff1be160>"
      ]
     },
     "metadata": {},
     "output_type": "display_data"
    }
   ],
   "source": [
    "b = []\n",
    "b.append(spm2.discharge(current=0.5, trim=True))\n",
    "b.append(spm2.charge(current=1.0, trim=True))\n",
    "# print(a)\n",
    "t_exp = [a[0][0], a[1][0]]\n",
    "v_exp = [a[0][1], a[1][1]]\n",
    "plt.plot(t_exp[0], v_exp[0], label='0.5c, battery1')\n",
    "plt.plot(t_exp[1], v_exp[1], label = '1.0c, battery1')\n",
    "plt.plot(b[1][0], b[1][2], label = 'battery 2, current')\n",
    "plt.plot(b[0][0], b[0][1], label='0.5c, battery 2')\n",
    "plt.plot(b[1][0], b[1][1], label='1.0c, battery 2')\n",
    "plt.legend()"
   ]
  },
  {
   "cell_type": "markdown",
   "metadata": {},
   "source": [
    "### What about cycling? Or arbitrary charge/discharge patterns?"
   ]
  },
  {
   "cell_type": "code",
   "execution_count": 9,
   "metadata": {},
   "outputs": [
    {
     "name": "stdout",
     "output_type": "stream",
     "text": [
      "[ 1.00000000e-14  1.00000000e-14  5.15550000e+04  3.05550000e+04\n",
      "  8.00000000e-05  8.80000000e-05  2.00000000e-06  2.00000000e-06\n",
      "  3.03150000e+02  1.00000000e+03  8.85000000e+05  7.23600000e+05\n",
      "  2.60000000e-02  2.10000000e+03  1.00000000e+00  2.33400000e-11\n",
      "  8.30700000e-12  1.50000000e-06  3.00000000e+01  3.00000000e+01\n",
      " -1.00000000e+00  1.00000000e+00  0.00000000e+00  5.00000000e+02\n",
      "  2.51417672e+04  2.51417672e+04  2.51417672e+04  2.51417672e+04\n",
      "  2.51417672e+04  2.51417672e+04  2.51417672e+04  2.51417672e+04\n",
      "  2.51417672e+04  2.51417672e+04  2.51417672e+04  2.51417672e+04\n",
      "  2.51417672e+04  2.51417672e+04  2.51417672e+04  2.51417672e+04\n",
      "  2.51417672e+04  2.51417672e+04  2.51417672e+04  2.51417672e+04\n",
      "  2.51417672e+04  2.51417672e+04  2.51417672e+04  2.51417672e+04\n",
      "  2.51417672e+04  2.51417672e+04  2.51417672e+04  2.51417672e+04\n",
      "  2.51417672e+04  2.51417672e+04  2.51417672e+04  2.51417672e+04\n",
      "  2.73921225e+00  2.73921225e+00  2.73921225e+00  2.73921225e+00\n",
      "  2.73921225e+00  2.73921225e+00  2.73921225e+00  2.73921225e+00\n",
      "  2.73921225e+00  2.73921225e+00  2.73921225e+00  2.73921225e+00\n",
      "  2.73921225e+00  2.73921225e+00  2.73921225e+00  2.73921225e+00\n",
      "  2.73921225e+00  2.73921225e+00  2.73921225e+00  2.73921225e+00\n",
      "  2.73921225e+00  2.73921225e+00  2.73921225e+00  2.73921225e+00\n",
      "  2.73921225e+00  2.73921225e+00  2.73921225e+00  2.73921225e+00\n",
      "  2.73921225e+00  2.73921225e+00  2.73921225e+00  2.73921225e+00\n",
      "  4.26700382e+00  6.70038247e-02  2.65295200e-03  7.34704800e-03\n",
      "  1.63513920e-10  3.08271510e+01  3.08183958e+01  8.75512593e-03\n",
      "  4.20000000e+00 -1.00000000e+00]\n",
      "[1.00000000e-14 1.00000000e-14 5.15550000e+04 3.05550000e+04\n",
      " 8.00000000e-05 8.80000000e-05 2.00000000e-06 2.00000000e-06\n",
      " 3.03150000e+02 1.00000000e+03 8.85000000e+05 7.23600000e+05\n",
      " 2.60000000e-02 2.10000000e+03 1.00000000e+00 2.33400000e-11\n",
      " 8.30700000e-12 1.50000000e-06 3.00000000e+01 3.00000000e+01\n",
      " 5.00000000e-01 1.00000000e+00 0.00000000e+00 4.00000000e+02\n",
      " 2.51417672e+04 2.51417672e+04 2.51417672e+04 2.51417672e+04\n",
      " 2.51417672e+04 2.51417672e+04 2.51417672e+04 2.51417672e+04\n",
      " 2.51417672e+04 2.51417672e+04 2.51417672e+04 2.51417672e+04\n",
      " 2.51417672e+04 2.51417672e+04 2.51417672e+04 2.51417672e+04\n",
      " 2.51417672e+04 2.51417672e+04 2.51417672e+04 2.51417672e+04\n",
      " 2.51417672e+04 2.51417672e+04 2.51417672e+04 2.51417672e+04\n",
      " 2.51417672e+04 2.51417672e+04 2.51417672e+04 2.51417672e+04\n",
      " 2.51417672e+04 2.51417672e+04 2.51417672e+04 2.51417672e+04\n",
      " 2.73921225e+00 2.73921225e+00 2.73921225e+00 2.73921225e+00\n",
      " 2.73921225e+00 2.73921225e+00 2.73921225e+00 2.73921225e+00\n",
      " 2.73921225e+00 2.73921225e+00 2.73921225e+00 2.73921225e+00\n",
      " 2.73921225e+00 2.73921225e+00 2.73921225e+00 2.73921225e+00\n",
      " 2.73921225e+00 2.73921225e+00 2.73921225e+00 2.73921225e+00\n",
      " 2.73921225e+00 2.73921225e+00 2.73921225e+00 2.73921225e+00\n",
      " 2.73921225e+00 2.73921225e+00 2.73921225e+00 2.73921225e+00\n",
      " 2.73921225e+00 2.73921225e+00 2.73921225e+00 2.73921225e+00\n",
      " 4.26700382e+00 6.70038247e-02 2.65295200e-03 7.34704800e-03\n",
      " 1.63513920e-10 3.08271510e+01 3.08183958e+01 8.75512593e-03\n",
      " 4.20000000e+00 1.00000000e-02]\n"
     ]
    },
    {
     "ename": "TypeError",
     "evalue": "list indices must be integers or slices, not tuple",
     "output_type": "error",
     "traceback": [
      "\u001b[1;31m---------------------------------------------------------------------------\u001b[0m",
      "\u001b[1;31mTypeError\u001b[0m                                 Traceback (most recent call last)",
      "\u001b[1;32m<ipython-input-9-b6b795937796>\u001b[0m in \u001b[0;36m<module>\u001b[1;34m()\u001b[0m\n\u001b[1;32m----> 1\u001b[1;33m \u001b[0mpwc\u001b[0m \u001b[1;33m=\u001b[0m \u001b[0mspm1\u001b[0m\u001b[1;33m.\u001b[0m\u001b[0mpiecewise_current\u001b[0m\u001b[1;33m(\u001b[0m\u001b[1;33m[\u001b[0m\u001b[1;36m500\u001b[0m\u001b[1;33m,\u001b[0m\u001b[1;36m400\u001b[0m\u001b[1;33m,\u001b[0m\u001b[1;36m600\u001b[0m\u001b[1;33m,\u001b[0m\u001b[1;36m200\u001b[0m\u001b[1;33m,\u001b[0m\u001b[1;36m50\u001b[0m\u001b[1;33m,\u001b[0m\u001b[1;36m700\u001b[0m\u001b[1;33m,\u001b[0m\u001b[1;36m300\u001b[0m\u001b[1;33m,\u001b[0m\u001b[1;36m2000\u001b[0m\u001b[1;33m]\u001b[0m\u001b[1;33m,\u001b[0m \u001b[1;33m[\u001b[0m\u001b[1;36m1.0\u001b[0m\u001b[1;33m,\u001b[0m\u001b[1;33m-\u001b[0m\u001b[1;36m0.5\u001b[0m\u001b[1;33m,\u001b[0m\u001b[1;36m1.2\u001b[0m\u001b[1;33m,\u001b[0m\u001b[1;33m-\u001b[0m\u001b[1;36m0.75\u001b[0m\u001b[1;33m,\u001b[0m\u001b[1;36m2.0\u001b[0m\u001b[1;33m,\u001b[0m\u001b[1;36m0.5\u001b[0m\u001b[1;33m,\u001b[0m\u001b[1;33m-\u001b[0m\u001b[1;36m1.0\u001b[0m\u001b[1;33m,\u001b[0m\u001b[1;36m1.5\u001b[0m\u001b[1;33m]\u001b[0m\u001b[1;33m)\u001b[0m\u001b[1;33m\u001b[0m\u001b[0m\n\u001b[0m\u001b[0;32m      2\u001b[0m \u001b[0mt_exp\u001b[0m \u001b[1;33m=\u001b[0m \u001b[0mpwc\u001b[0m\u001b[1;33m[\u001b[0m\u001b[1;36m0\u001b[0m\u001b[1;33m]\u001b[0m\u001b[1;33m\u001b[0m\u001b[0m\n\u001b[0;32m      3\u001b[0m \u001b[0mv_exp\u001b[0m \u001b[1;33m=\u001b[0m \u001b[0mpwc\u001b[0m\u001b[1;33m[\u001b[0m\u001b[1;36m1\u001b[0m\u001b[1;33m]\u001b[0m\u001b[1;33m\u001b[0m\u001b[0m\n\u001b[0;32m      4\u001b[0m \u001b[0mplt\u001b[0m\u001b[1;33m.\u001b[0m\u001b[0mplot\u001b[0m\u001b[1;33m(\u001b[0m\u001b[0mpwc\u001b[0m\u001b[1;33m[\u001b[0m\u001b[1;36m0\u001b[0m\u001b[1;33m]\u001b[0m\u001b[1;33m,\u001b[0m \u001b[0mpwc\u001b[0m\u001b[1;33m[\u001b[0m\u001b[1;36m1\u001b[0m\u001b[1;33m]\u001b[0m\u001b[1;33m)\u001b[0m\u001b[1;33m\u001b[0m\u001b[0m\n\u001b[0;32m      5\u001b[0m \u001b[0mplt\u001b[0m\u001b[1;33m.\u001b[0m\u001b[0mplot\u001b[0m\u001b[1;33m(\u001b[0m\u001b[0mpwc\u001b[0m\u001b[1;33m[\u001b[0m\u001b[1;36m0\u001b[0m\u001b[1;33m]\u001b[0m\u001b[1;33m,\u001b[0m \u001b[0mpwc\u001b[0m\u001b[1;33m[\u001b[0m\u001b[1;36m2\u001b[0m\u001b[1;33m]\u001b[0m\u001b[1;33m)\u001b[0m\u001b[1;33m\u001b[0m\u001b[0m\n",
      "\u001b[1;32m~\\Desktop\\Research\\Github\\battery\\battery\\battery.py\u001b[0m in \u001b[0;36mpiecewise_current\u001b[1;34m(self, times, currents, n_steps, from_current_state, p)\u001b[0m\n\u001b[0;32m    194\u001b[0m                     \u001b[1;31m# print(out)\u001b[0m\u001b[1;33m\u001b[0m\u001b[1;33m\u001b[0m\u001b[0m\n\u001b[0;32m    195\u001b[0m             \u001b[1;32mif\u001b[0m \u001b[0mcount\u001b[0m \u001b[1;33m>\u001b[0m \u001b[1;36m0\u001b[0m\u001b[1;33m:\u001b[0m\u001b[1;33m\u001b[0m\u001b[0m\n\u001b[1;32m--> 196\u001b[1;33m                 \u001b[0mout\u001b[0m\u001b[1;33m[\u001b[0m\u001b[1;36m0\u001b[0m\u001b[1;33m]\u001b[0m \u001b[1;33m+=\u001b[0m \u001b[0msolve\u001b[0m\u001b[1;33m[\u001b[0m\u001b[1;33m-\u001b[0m\u001b[1;36m1\u001b[0m\u001b[1;33m]\u001b[0m\u001b[1;33m[\u001b[0m\u001b[1;36m0\u001b[0m\u001b[1;33m,\u001b[0m\u001b[1;33m-\u001b[0m\u001b[1;36m1\u001b[0m\u001b[1;33m]\u001b[0m\u001b[1;33m\u001b[0m\u001b[0m\n\u001b[0m\u001b[0;32m    197\u001b[0m \u001b[1;33m\u001b[0m\u001b[0m\n\u001b[0;32m    198\u001b[0m             \u001b[0msolve\u001b[0m\u001b[1;33m.\u001b[0m\u001b[0mappend\u001b[0m\u001b[1;33m(\u001b[0m\u001b[0mout\u001b[0m\u001b[1;33m)\u001b[0m\u001b[1;33m\u001b[0m\u001b[0m\n",
      "\u001b[1;31mTypeError\u001b[0m: list indices must be integers or slices, not tuple"
     ]
    }
   ],
   "source": [
    "pwc = spm1.piecewise_current([500,400,600,200,50,700,300,2000], [1.0,-0.5,1.2,-0.75,2.0,0.5,-1.0,1.5])\n",
    "t_exp = pwc[0]\n",
    "v_exp = pwc[1]\n",
    "plt.plot(pwc[0], pwc[1])\n",
    "plt.plot(pwc[0], pwc[2])"
   ]
  },
  {
   "cell_type": "code",
   "execution_count": 6,
   "metadata": {},
   "outputs": [
    {
     "data": {
      "text/plain": [
       " final_simplex: (array([[1.98518800e-06, 1.20510266e-09, 8.06428498e-05],\n",
       "       [1.98507214e-06, 1.19270705e-09, 8.06475759e-05],\n",
       "       [1.98525237e-06, 1.20572710e-09, 8.06406685e-05],\n",
       "       [1.98542948e-06, 1.21266344e-09, 8.06333374e-05]]), array([4.88384960e-05, 4.88429854e-05, 4.88435458e-05, 4.88440599e-05]))\n",
       "           fun: 4.883849602029821e-05\n",
       "       message: 'Optimization terminated successfully.'\n",
       "          nfev: 144\n",
       "           nit: 80\n",
       "        status: 0\n",
       "       success: True\n",
       "             x: array([1.98518800e-06, 1.20510266e-09, 8.06428498e-05])"
      ]
     },
     "execution_count": 6,
     "metadata": {},
     "output_type": "execute_result"
    }
   ],
   "source": [
    "spm2 = SingleParticle(initial_parameters=p1, estimate_parameters=['Rp','kp','lp'])\n",
    "pwc = spm2.piecewise_current([500,400,600,200,50,700,300,2000], [1.0,-0.5,1.2,-0.75,2.0,0.5,-1.0,1.5])\n",
    "t_initial = pwc[0]\n",
    "v_initial = pwc[1]\n",
    "spm2.fit([500,400,600,200,50,700,300,2000], v_exp, currents=[1.0,-0.5,1.2,-0.75,2.0,0.5,-1.0,1.5], currents_type='piecewise', tol=1e-8, maxiter=1000)\n"
   ]
  },
  {
   "cell_type": "code",
   "execution_count": 7,
   "metadata": {},
   "outputs": [
    {
     "data": {
      "text/plain": [
       "<matplotlib.legend.Legend at 0x237e9fd9c50>"
      ]
     },
     "execution_count": 7,
     "metadata": {},
     "output_type": "execute_result"
    },
    {
     "data": {
      "image/png": "[encoded data removed]",
      "text/plain": [
       "<matplotlib.figure.Figure at 0x237ce238f28>"
      ]
     },
     "metadata": {},
     "output_type": "display_data"
    }
   ],
   "source": [
    "plt.plot(t_exp, v_exp, label='experimental')\n",
    "plt.plot(t_initial, v_initial, label = 'initial')\n",
    "pwc = spm2.piecewise_current([500,400,600,200,50,700,300,2000], [1.0,-0.5,1.2,-0.75,2.0,0.5,-1.0,1.5])\n",
    "plt.plot(pwc[0], pwc[1], label='converged fit')\n",
    "plt.legend()"
   ]
  },
  {
   "cell_type": "code",
   "execution_count": 16,
   "metadata": {},
   "outputs": [
    {
     "name": "stdout",
     "output_type": "stream",
     "text": [
      "Percent error for the estimated parameters:\n",
      "['Rp' 'kp' 'lp']\n",
      "[ -1.46185022 -67.51891959   1.49276063]\n"
     ]
    }
   ],
   "source": [
    "error = (spm2.fitted_parameters-true_values[spm2.estimate_inds])/true_values[spm2.estimate_inds]*100\n",
    "print(\"Percent error for the estimated parameters:\")\n",
    "print(np.array([key for key in spm2.initial_parameters.keys()])[spm2.estimate_inds])\n",
    "print(error)"
   ]
  },
  {
   "cell_type": "markdown",
   "metadata": {},
   "source": [
    "## Comments? Questions? Suggestions?\n",
    "\n",
    "Please feel free to contact me at\n",
    "\n",
    "### nealde@uw.edu"
   ]
  }
 ],
 "metadata": {
  "kernelspec": {
   "display_name": "Python 3",
   "language": "python",
   "name": "python3"
  },
  "language_info": {
   "codemirror_mode": {
    "name": "ipython",
    "version": 3
   },
   "file_extension": ".py",
   "mimetype": "text/x-python",
   "name": "python",
   "nbconvert_exporter": "python",
   "pygments_lexer": "ipython3",
   "version": "3.6.4"
  }
 },
 "nbformat": 4,
 "nbformat_minor": 2
}
